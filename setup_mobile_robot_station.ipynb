{
 "cells": [
  {
   "cell_type": "markdown",
   "id": "258251f9",
   "metadata": {},
   "source": [
    "# Setting up a mobile robot station\n",
    "---"
   ]
  },
  {
   "cell_type": "markdown",
   "id": "775eeffc",
   "metadata": {},
   "source": [
    "You are given the imports below for all the necessary modules and classes required to set up a station server and its devices for the automation workflow. These include handlers for the YuMi robot, web camera, Tecan XCalibur pump, Ika Plate, and supporting utilities."
   ]
  },
  {
   "cell_type": "code",
   "execution_count": null,
   "id": "56600fd3",
   "metadata": {},
   "outputs": [],
   "source": [
    "from kuka_kmriiwa.handler import KukaKMRiiwa\n",
    "from ochra_common.spaces.location import Location\n",
    "from ochra_common.utils.enum import StationType\n",
    "from ochra_manager.station.station_server import StationServer"
   ]
  },
  {
   "cell_type": "markdown",
   "id": "6ed21e9d",
   "metadata": {},
   "source": [
    "## Construct station server\n",
    "In OChRA framework, a mobile robot is represented as a mobile station that has a robot attached to it that users can operate to run their workflows.\n",
    "\n",
    "In the code box below, construct a `StationServer` using the following information:\n",
    "- Name the station *kuka_station* with your name as a prefix e.g. *hatem_kuka_station*\n",
    "- Station type is StationType.MOBILE_ROBOT_STATION\n",
    "- The station is placed at kuka1_charger, which is located in the ACL lab at the room *main_lab*\n",
    "- The station server is to run at the address *127.0.0.1*\n",
    "- The station port is to be *8002*\n",
    "- Station logs should be stored at the path /tmp/kuka_station"
   ]
  },
  {
   "cell_type": "code",
   "execution_count": null,
   "id": "329a9e98",
   "metadata": {},
   "outputs": [],
   "source": [
    "# construct the mobile station server\n"
   ]
  },
  {
   "cell_type": "markdown",
   "id": "2c9e9b0a",
   "metadata": {},
   "source": [
    "## Connect to lab server\n",
    "In order to add a station to the lab, it needs to connect to the lab server. Using `setup` method, connect to the lab server whose address: *192.168.137.1:8001* "
   ]
  },
  {
   "cell_type": "code",
   "execution_count": null,
   "id": "301c705a",
   "metadata": {},
   "outputs": [],
   "source": [
    "# setup the station server\n"
   ]
  },
  {
   "cell_type": "markdown",
   "id": "191d01b7",
   "metadata": {},
   "source": [
    "## Setup mobile robot\n",
    "After constructing the station server and connecting to the lab server, we need to add our mobile robot to the station. In the code box below, construct and add the KukaKMRiiwa mobile robot using the following parameters:\n",
    "- Robot name is *KUKA3*"
   ]
  },
  {
   "cell_type": "code",
   "execution_count": null,
   "id": "8b7e6ff6",
   "metadata": {},
   "outputs": [],
   "source": [
    "# construct KukaKMRiiwa robot with available_tasks as the tasks list below\n",
    "# here are the tasks that the robot can perform\n",
    "tasks = [\n",
    "    \"LCMS\",\n",
    "    \"Home2C\",\n",
    "    \"ToChemS\",\n",
    "    \"FromChemS\",\n",
    "    \"ChemSLK\",\n",
    "    \"NMRLK\",\n",
    "    \"NMRRack01InChemS\",\n",
    "    \"NMRRack01OutChemS\",\n",
    "    \"LcmsRack01InChemS\",\n",
    "    \"LcmsRack01OutChemS\",\n",
    "    \"NMRRack01InNMR\",\n",
    "    \"NMRRack01OutNMR\",\n",
    "    \"LcmsRack01InLcms\",\n",
    "    \"LcmsRack01OutLcms\",\n",
    "    \"WaitP4ChemS\",\n",
    "]\n"
   ]
  },
  {
   "cell_type": "markdown",
   "id": "dc20c950",
   "metadata": {},
   "source": [
    "## Run the station server\n",
    "After adding the mobile robot, we need to run the station server in order for it to be ready to handle requests. In the code box below use the `run` command to start the station server"
   ]
  },
  {
   "cell_type": "code",
   "execution_count": null,
   "id": "a5be7384",
   "metadata": {},
   "outputs": [],
   "source": [
    "# start the station server\n"
   ]
  }
 ],
 "metadata": {
  "kernelspec": {
   "display_name": "sim_user",
   "language": "python",
   "name": "python3"
  },
  "language_info": {
   "codemirror_mode": {
    "name": "ipython",
    "version": 3
   },
   "file_extension": ".py",
   "mimetype": "text/x-python",
   "name": "python",
   "nbconvert_exporter": "python",
   "pygments_lexer": "ipython3",
   "version": "3.12.11"
  }
 },
 "nbformat": 4,
 "nbformat_minor": 5
}
