{
 "cells": [
  {
   "cell_type": "markdown",
   "id": "8d08e6e7",
   "metadata": {},
   "source": [
    "# Colour addition workflow"
   ]
  },
  {
   "cell_type": "markdown",
   "id": "8fbf25e1",
   "metadata": {},
   "source": [
    "You are given the imports below for all the necessary modules and classes required to run our example workflow"
   ]
  },
  {
   "cell_type": "code",
   "execution_count": null,
   "id": "65d799d3",
   "metadata": {},
   "outputs": [],
   "source": [
    "import time\n",
    "\n",
    "from ochra_discovery.storage.vessel import Vessel\n",
    "from ochra_discovery.storage.reagent import Reagent\n",
    "from ochra_discovery.equipment.operation import Operation\n",
    "from ochra_discovery.equipment.operation_result import OperationResult\n",
    "from ochra_discovery.spaces.lab import Lab\n",
    "from ochra_discovery.storage.holder import Holder\n",
    "\n",
    "from ika_rct_digital.device import IkaPlate\n",
    "from tecan_xcalibur.device import TecanXCalibur\n",
    "from webcam.device import Webcam\n",
    "from abb_yumi.device import AbbYuMi"
   ]
  },
  {
   "cell_type": "markdown",
   "id": "4d722594",
   "metadata": {},
   "source": [
    "## Connecting to the lab server\n",
    "In order to run your experiment in the lab, first you need to connect to the lab server. In the code box below, using `Lab` class, connect to the server at address *192.168.137.1:8001* with an experiment id of your choice."
   ]
  },
  {
   "cell_type": "code",
   "execution_count": null,
   "id": "2542cd9c",
   "metadata": {},
   "outputs": [],
   "source": [
    "# connect to lab server\n"
   ]
  },
  {
   "cell_type": "markdown",
   "id": "ee57ee85",
   "metadata": {},
   "source": [
    "## Retrieving a station\n",
    "To access the devices available in our lab, we need to get the station which the device belongs to. Below use `get_station` method from the `Lab` class to retrieve *yumi_station*"
   ]
  },
  {
   "cell_type": "code",
   "execution_count": null,
   "id": "84435976",
   "metadata": {},
   "outputs": [],
   "source": [
    "# get station\n"
   ]
  },
  {
   "cell_type": "markdown",
   "id": "eb1d247a",
   "metadata": {},
   "source": [
    "## Defining labware\n",
    "To run our experiments, we need to define the used labware, such as the used vials and racks. In the code box below, define a rack that can hold up to 4 vials using the class `Holder`. Moreover, using the `Vessel` class, create 4 empty vials that have a maximum capacity of 15 ml"
   ]
  },
  {
   "cell_type": "code",
   "execution_count": null,
   "id": "63d649ea",
   "metadata": {},
   "outputs": [],
   "source": [
    "# construct the rack holder\n",
    "\n",
    "\n",
    "# construct and add vials to the rack\n"
   ]
  },
  {
   "cell_type": "markdown",
   "id": "688b1748",
   "metadata": {},
   "source": [
    "## Adding labware to the station\n",
    "The created labware needs to be added to our station's inventory so it can be used in the experiment. Below use `add_container` method of the `inventory` attribute of our station to do so"
   ]
  },
  {
   "cell_type": "code",
   "execution_count": null,
   "id": "ceecefb2",
   "metadata": {},
   "outputs": [],
   "source": [
    "# add the rack to the station inventory\n"
   ]
  },
  {
   "cell_type": "markdown",
   "id": "0c424d2d",
   "metadata": {},
   "source": [
    "## Workflow steps\n",
    "---"
   ]
  },
  {
   "cell_type": "markdown",
   "id": "c0221012",
   "metadata": {},
   "source": [
    "### Workflow step (1) - Pick a vial and decap it\n",
    "The first step in our workflow involves using the YuMi robot to decap one of the vials before adding liquid to it. Use `get_robot` method of our station to retrieve our robot named *yumi*\n",
    "\n",
    "*hint: use python type hints when getting a device to have access to its methods using autocomplete*"
   ]
  },
  {
   "cell_type": "code",
   "execution_count": null,
   "id": "a1ccf5bd",
   "metadata": {},
   "outputs": [],
   "source": [
    "# get the robot from the station\n"
   ]
  },
  {
   "cell_type": "markdown",
   "id": "0b77f572",
   "metadata": {},
   "source": [
    "Using the retrieved robot, call its `execute` method to execute the task name *pick_vial_from_rack* with the argument: {\"index\":1}, so the robot pick a vial from the input rack and place it in the operation zone"
   ]
  },
  {
   "cell_type": "code",
   "execution_count": null,
   "id": "c253ed1a",
   "metadata": {},
   "outputs": [],
   "source": [
    "# execute robot task\n"
   ]
  },
  {
   "cell_type": "markdown",
   "id": "9e543397",
   "metadata": {},
   "source": [
    "Similarly, execute the task *uncap_vial* with no arguments"
   ]
  },
  {
   "cell_type": "code",
   "execution_count": null,
   "id": "0942b33a",
   "metadata": {},
   "outputs": [],
   "source": [
    "# decap the vial\n"
   ]
  },
  {
   "cell_type": "markdown",
   "id": "72b69322",
   "metadata": {},
   "source": [
    "### Workflow step (2) - Adding liquids to the vial\n",
    "We need to retrieve the Tecan XCalibur liquid handler from our station so we can use it functionalities. Similar to how we needed to retrieve the YuMi robot from the station, use `get_device` method to retrieve our liquid handler named *tecan*\n",
    "\n",
    "*hint: don't forget using type hinting*"
   ]
  },
  {
   "cell_type": "code",
   "execution_count": null,
   "id": "85147efe",
   "metadata": {},
   "outputs": [],
   "source": [
    "# get the liquid handler from the station\n"
   ]
  },
  {
   "cell_type": "markdown",
   "id": "88095bc5",
   "metadata": {},
   "source": [
    "Next, load the vial into the liquid handler by executing the robot task *place_vial_in_pump* with no arguments"
   ]
  },
  {
   "cell_type": "code",
   "execution_count": null,
   "id": "8d2a5039",
   "metadata": {},
   "outputs": [],
   "source": [
    "# load the vial into the liquid handler\n"
   ]
  },
  {
   "cell_type": "markdown",
   "id": "310b23ac",
   "metadata": {},
   "source": [
    "Use the liquid handler `dispense` method to add 10ml of water to the loaded vial. Note that the *source* line index is 0, *dest* index is 1 and its *dir* is I"
   ]
  },
  {
   "cell_type": "code",
   "execution_count": null,
   "id": "95f5a39d",
   "metadata": {},
   "outputs": [],
   "source": [
    "# dispense 10ml of water into the vial\n"
   ]
  },
  {
   "cell_type": "markdown",
   "id": "bcbd6adc",
   "metadata": {},
   "source": [
    "Currently in our framework, all the operations are defined explicitly. In other words, adding liquid to the vial needs to be explicitly defined by the programmer. In the code box below, retreive the vial from the rack first using its property `containers`. Afterwards, define the added reagent using the `Reagent` class and use `add_reagent` method of our vial to define the addition"
   ]
  },
  {
   "cell_type": "code",
   "execution_count": null,
   "id": "d6ebd28e",
   "metadata": {},
   "outputs": [],
   "source": [
    "# Retrieve the vial from the rack\n",
    "\n",
    "\n",
    "# define the added reagent\n",
    "\n",
    "\n",
    "# add the added reagent to the vial\n"
   ]
  },
  {
   "cell_type": "markdown",
   "id": "b5d0cbf8",
   "metadata": {},
   "source": [
    "Similarly, use the liquid handler `dispense` method to add 3ml of dye to the loaded vial and explicitly define the reagent addition. The source line is 2 in this case"
   ]
  },
  {
   "cell_type": "code",
   "execution_count": null,
   "id": "70d72aa3",
   "metadata": {},
   "outputs": [],
   "source": [
    "# dispense dye into the vial\n",
    "\n",
    "\n",
    "# define the added reagent\n",
    "\n",
    "\n",
    "# add the added reagent to the vial\n"
   ]
  },
  {
   "cell_type": "markdown",
   "id": "fd96db6f",
   "metadata": {},
   "source": [
    "Finally, use the YuMi robot to unload the vial from the liquid handler and place it back in the operation zone using the task *unload_tecan_pump* before capping the vial with the task *cap_vial*"
   ]
  },
  {
   "cell_type": "code",
   "execution_count": null,
   "id": "34d28526",
   "metadata": {},
   "outputs": [],
   "source": [
    "# unload the vial from the liquid handler\n",
    "\n",
    "\n",
    "# cap the vial\n"
   ]
  },
  {
   "cell_type": "markdown",
   "id": "d19a8e88",
   "metadata": {},
   "source": [
    "### Workflow step (3) - Mixing the liquids\n",
    "In order to mix the added liquids, we need to use our IKA RCT digital plate. Similar to the previous steps, first retrieve the device from the station using its given name *ika_plate*"
   ]
  },
  {
   "cell_type": "code",
   "execution_count": null,
   "id": "0c2316d7",
   "metadata": {},
   "outputs": [],
   "source": [
    "# get the ika plate from the station\n"
   ]
  },
  {
   "cell_type": "markdown",
   "id": "f16bdfdc",
   "metadata": {},
   "source": [
    "Use the YuMi robot to load the vial into the IKA plate using the task *load_ika_plate*, set the speed to 200rpm using `set_speed`and stir the liquids for 10 seconds using the methods `start_stirring` and `stop_stirring` in the IKA plate. To add the delay, you can use `sleep` method from python `time` library. Finally, make the robot unload the IKA plate using the task *unload_ika_plate*"
   ]
  },
  {
   "cell_type": "code",
   "execution_count": null,
   "id": "03720a79",
   "metadata": {},
   "outputs": [],
   "source": [
    "# load the vial into the ika plate\n",
    "\n",
    "\n",
    "# set the stir speed to 200\n",
    "\n",
    "\n",
    "# start stirring\n",
    "\n",
    "\n",
    "# sleep for 10 seconds\n",
    "\n",
    "\n",
    "# stop stirring\n",
    "\n",
    "\n",
    "# unload the vial from the ika plate\n"
   ]
  },
  {
   "cell_type": "markdown",
   "id": "f5e8fba6",
   "metadata": {},
   "source": [
    "### Workflow step (4) - Image the resulting solution\n",
    "The final step in our workflow is to take a picture of the vial to image the resulting solution before running further analysis. Like in the previous steps, first retrieve the camera device from the station using its given name *camera*. Afterwards, use the YuMi robot to present the vial to the camera using the task *goto_camera_pose*"
   ]
  },
  {
   "cell_type": "code",
   "execution_count": null,
   "id": "014fe763",
   "metadata": {},
   "outputs": [],
   "source": [
    "# get the camera from the station\n",
    "\n",
    "\n",
    "# present the vial to the camera\n"
   ]
  },
  {
   "cell_type": "markdown",
   "id": "374a2f30",
   "metadata": {},
   "source": [
    "Next, use the camera `take_image` method to take a picture of the presented vial. Note that, all device and robot methods return `Operation` object upon calling. Store this object by assigning a variable named `op` to the method call.\n",
    "\n",
    "*hint: use type hinting on the returned object to have access to its attributes and methods"
   ]
  },
  {
   "cell_type": "code",
   "execution_count": null,
   "id": "5743228d",
   "metadata": {},
   "outputs": [],
   "source": [
    "# take an image of the vial\n"
   ]
  },
  {
   "cell_type": "markdown",
   "id": "3e3101df",
   "metadata": {},
   "source": [
    "Finally, use the YuMi robot to return the vial to the operation zone and then to place it back in the rack using the tasks *return_from_camera_pose* and *place_vial_in_rack* respectively. The latter task takes arguments {\"index\":1}"
   ]
  },
  {
   "cell_type": "code",
   "execution_count": null,
   "id": "022103eb",
   "metadata": {},
   "outputs": [],
   "source": [
    "# return the vial from the camera\n",
    "\n",
    "\n",
    "# place the vial back in the rack\n"
   ]
  },
  {
   "cell_type": "markdown",
   "id": "93cee1a8",
   "metadata": {},
   "source": [
    "---\n",
    "## Retrieve experiment data\n",
    "After running our workflow, we want to access the image that was taken during the experiment to further analyze our data. To access the results of the operation, use the method `get_result_object` to retrieve `OperationResult` that provide access to the results data"
   ]
  },
  {
   "cell_type": "code",
   "execution_count": null,
   "id": "d41ae309",
   "metadata": {},
   "outputs": [],
   "source": [
    "# get the operation result object\n"
   ]
  },
  {
   "cell_type": "markdown",
   "id": "e9cbff7b",
   "metadata": {},
   "source": [
    "Use the method `save_data` of the result object to store data to the disk under the name *result_img*, so we can access it later"
   ]
  },
  {
   "cell_type": "code",
   "execution_count": null,
   "id": "dd2b0c64",
   "metadata": {},
   "outputs": [],
   "source": [
    "# store data to disk\n"
   ]
  },
  {
   "cell_type": "markdown",
   "id": "ee210612",
   "metadata": {},
   "source": [
    "## Using 3rd party libraries\n",
    "The result data can be directly accessed in runtime to run further analysis on it using 3rd party libraries or to convert it to another format if needed. Retrieve the result data directly from op using the method `get_result_data`. Afterwards, import `cv2` and `numpy` libraries and use it to display the taken image and then convert it to grey-scale colour space using the appropriate cv2 methods. Note that, the returned data needs to be converted to np.array. Before doing so, convert the result_data, which is a byte string to python native bytearray"
   ]
  },
  {
   "cell_type": "code",
   "execution_count": null,
   "id": "07f3b6e6",
   "metadata": {},
   "outputs": [],
   "source": [
    "# import the 3rd party library\n",
    "import cv2\n",
    "import numpy as np\n",
    "\n",
    "# get the result data as img_raw\n",
    "\n",
    "\n",
    "# convert the bytestring to a bytearray, then decode it as np array and decode it using openCV\n",
    "\n",
    "\n",
    "# display the image and convert to grey-scale\n",
    "\n"
   ]
  }
 ],
 "metadata": {
  "kernelspec": {
   "display_name": "sim_user",
   "language": "python",
   "name": "python3"
  },
  "language_info": {
   "codemirror_mode": {
    "name": "ipython",
    "version": 3
   },
   "file_extension": ".py",
   "mimetype": "text/x-python",
   "name": "python",
   "nbconvert_exporter": "python",
   "pygments_lexer": "ipython3",
   "version": "3.12.11"
  }
 },
 "nbformat": 4,
 "nbformat_minor": 5
}
