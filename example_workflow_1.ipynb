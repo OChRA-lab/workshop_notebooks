{
 "cells": [
  {
   "cell_type": "markdown",
   "id": "8d08e6e7",
   "metadata": {},
   "source": [
    "# Colour addition workflow"
   ]
  },
  {
   "cell_type": "markdown",
   "id": "8fbf25e1",
   "metadata": {},
   "source": [
    "You are given the imports below for all the necessary modules and classes required to run our example workflow"
   ]
  },
  {
   "cell_type": "code",
   "execution_count": 3,
   "id": "65d799d3",
   "metadata": {},
   "outputs": [],
   "source": [
    "\n",
    "import time\n",
    "\n",
    "from ochra_discovery.storage.vessel import Vessel\n",
    "from ochra_discovery.storage.reagent import Reagent\n",
    "from ochra_discovery.equipment.operation import Operation\n",
    "from ochra_discovery.equipment.operation_result import OperationResult\n",
    "from ochra_discovery.spaces.lab import Lab\n",
    "from ochra_discovery.storage.holder import Holder\n",
    "\n",
    "from ika_rct_digital.device import IkaPlate\n",
    "from tecan_xcalibur.device import TecanXCalibur\n",
    "from webcam.device import Webcam\n",
    "from abb_yumi.device import AbbYuMi\n",
    "from xpr_quantos.device import XprQuantos\n",
    "from kuka_kmriiwa.device import KukaKMRiiwa"
   ]
  },
  {
   "cell_type": "markdown",
   "id": "4d722594",
   "metadata": {},
   "source": [
    "## Connecting to the lab server\n",
    "In order to run your experiment in the lab, first you need to connect to the lab server. In the code box below, using `Lab` class, connect to the server at address *127.0.0.1:8001* with an experiment id of your choice."
   ]
  },
  {
   "cell_type": "code",
   "execution_count": 6,
   "id": "2542cd9c",
   "metadata": {},
   "outputs": [],
   "source": [
    "# connect to lab server\n",
    "lab = Lab(\"127.0.0.1:8001\",\"asd123\")"
   ]
  },
  {
   "cell_type": "markdown",
   "id": "ee57ee85",
   "metadata": {},
   "source": [
    "## Retrieving a station\n",
    "To access the devices available in our lab, we need to get the station which the device belongs to. Below use `get_station` method from the `Lab` class to retrieve *yumi_station*"
   ]
  },
  {
   "cell_type": "code",
   "execution_count": 8,
   "id": "84435976",
   "metadata": {},
   "outputs": [
    {
     "name": "stderr",
     "output_type": "stream",
     "text": [
      "HTTPConnectionPool(host='127.0.0.1', port=8001): Max retries exceeded with url: /lab/stations/get?identifier=yumi_station (Caused by NewConnectionError('<urllib3.connection.HTTPConnection object at 0x00000180F8B2AAE0>: Failed to establish a new connection: [WinError 10061] No connection could be made because the target machine actively refused it'))\n"
     ]
    },
    {
     "ename": "LabEngineException",
     "evalue": "Request Failed: HTTPConnectionPool(host='127.0.0.1', port=8001): Max retries exceeded with url: /lab/stations/get?identifier=yumi_station (Caused by NewConnectionError('<urllib3.connection.HTTPConnection object at 0x00000180F8B2AAE0>: Failed to establish a new connection: [WinError 10061] No connection could be made because the target machine actively refused it'))",
     "output_type": "error",
     "traceback": [
      "\u001b[31m---------------------------------------------------------------------------\u001b[39m",
      "\u001b[31mConnectionRefusedError\u001b[39m                    Traceback (most recent call last)",
      "\u001b[36mFile \u001b[39m\u001b[32mc:\\Users\\sccw60\\AppData\\Local\\anaconda3\\envs\\sim_user\\Lib\\site-packages\\urllib3\\connection.py:198\u001b[39m, in \u001b[36mHTTPConnection._new_conn\u001b[39m\u001b[34m(self)\u001b[39m\n\u001b[32m    197\u001b[39m \u001b[38;5;28;01mtry\u001b[39;00m:\n\u001b[32m--> \u001b[39m\u001b[32m198\u001b[39m     sock = \u001b[43mconnection\u001b[49m\u001b[43m.\u001b[49m\u001b[43mcreate_connection\u001b[49m\u001b[43m(\u001b[49m\n\u001b[32m    199\u001b[39m \u001b[43m        \u001b[49m\u001b[43m(\u001b[49m\u001b[38;5;28;43mself\u001b[39;49m\u001b[43m.\u001b[49m\u001b[43m_dns_host\u001b[49m\u001b[43m,\u001b[49m\u001b[43m \u001b[49m\u001b[38;5;28;43mself\u001b[39;49m\u001b[43m.\u001b[49m\u001b[43mport\u001b[49m\u001b[43m)\u001b[49m\u001b[43m,\u001b[49m\n\u001b[32m    200\u001b[39m \u001b[43m        \u001b[49m\u001b[38;5;28;43mself\u001b[39;49m\u001b[43m.\u001b[49m\u001b[43mtimeout\u001b[49m\u001b[43m,\u001b[49m\n\u001b[32m    201\u001b[39m \u001b[43m        \u001b[49m\u001b[43msource_address\u001b[49m\u001b[43m=\u001b[49m\u001b[38;5;28;43mself\u001b[39;49m\u001b[43m.\u001b[49m\u001b[43msource_address\u001b[49m\u001b[43m,\u001b[49m\n\u001b[32m    202\u001b[39m \u001b[43m        \u001b[49m\u001b[43msocket_options\u001b[49m\u001b[43m=\u001b[49m\u001b[38;5;28;43mself\u001b[39;49m\u001b[43m.\u001b[49m\u001b[43msocket_options\u001b[49m\u001b[43m,\u001b[49m\n\u001b[32m    203\u001b[39m \u001b[43m    \u001b[49m\u001b[43m)\u001b[49m\n\u001b[32m    204\u001b[39m \u001b[38;5;28;01mexcept\u001b[39;00m socket.gaierror \u001b[38;5;28;01mas\u001b[39;00m e:\n",
      "\u001b[36mFile \u001b[39m\u001b[32mc:\\Users\\sccw60\\AppData\\Local\\anaconda3\\envs\\sim_user\\Lib\\site-packages\\urllib3\\util\\connection.py:85\u001b[39m, in \u001b[36mcreate_connection\u001b[39m\u001b[34m(address, timeout, source_address, socket_options)\u001b[39m\n\u001b[32m     84\u001b[39m \u001b[38;5;28;01mtry\u001b[39;00m:\n\u001b[32m---> \u001b[39m\u001b[32m85\u001b[39m     \u001b[38;5;28;01mraise\u001b[39;00m err\n\u001b[32m     86\u001b[39m \u001b[38;5;28;01mfinally\u001b[39;00m:\n\u001b[32m     87\u001b[39m     \u001b[38;5;66;03m# Break explicitly a reference cycle\u001b[39;00m\n",
      "\u001b[36mFile \u001b[39m\u001b[32mc:\\Users\\sccw60\\AppData\\Local\\anaconda3\\envs\\sim_user\\Lib\\site-packages\\urllib3\\util\\connection.py:73\u001b[39m, in \u001b[36mcreate_connection\u001b[39m\u001b[34m(address, timeout, source_address, socket_options)\u001b[39m\n\u001b[32m     72\u001b[39m     sock.bind(source_address)\n\u001b[32m---> \u001b[39m\u001b[32m73\u001b[39m \u001b[43msock\u001b[49m\u001b[43m.\u001b[49m\u001b[43mconnect\u001b[49m\u001b[43m(\u001b[49m\u001b[43msa\u001b[49m\u001b[43m)\u001b[49m\n\u001b[32m     74\u001b[39m \u001b[38;5;66;03m# Break explicitly a reference cycle\u001b[39;00m\n",
      "\u001b[31mConnectionRefusedError\u001b[39m: [WinError 10061] No connection could be made because the target machine actively refused it",
      "\nThe above exception was the direct cause of the following exception:\n",
      "\u001b[31mNewConnectionError\u001b[39m                        Traceback (most recent call last)",
      "\u001b[36mFile \u001b[39m\u001b[32mc:\\Users\\sccw60\\AppData\\Local\\anaconda3\\envs\\sim_user\\Lib\\site-packages\\urllib3\\connectionpool.py:787\u001b[39m, in \u001b[36mHTTPConnectionPool.urlopen\u001b[39m\u001b[34m(self, method, url, body, headers, retries, redirect, assert_same_host, timeout, pool_timeout, release_conn, chunked, body_pos, preload_content, decode_content, **response_kw)\u001b[39m\n\u001b[32m    786\u001b[39m \u001b[38;5;66;03m# Make the request on the HTTPConnection object\u001b[39;00m\n\u001b[32m--> \u001b[39m\u001b[32m787\u001b[39m response = \u001b[38;5;28;43mself\u001b[39;49m\u001b[43m.\u001b[49m\u001b[43m_make_request\u001b[49m\u001b[43m(\u001b[49m\n\u001b[32m    788\u001b[39m \u001b[43m    \u001b[49m\u001b[43mconn\u001b[49m\u001b[43m,\u001b[49m\n\u001b[32m    789\u001b[39m \u001b[43m    \u001b[49m\u001b[43mmethod\u001b[49m\u001b[43m,\u001b[49m\n\u001b[32m    790\u001b[39m \u001b[43m    \u001b[49m\u001b[43murl\u001b[49m\u001b[43m,\u001b[49m\n\u001b[32m    791\u001b[39m \u001b[43m    \u001b[49m\u001b[43mtimeout\u001b[49m\u001b[43m=\u001b[49m\u001b[43mtimeout_obj\u001b[49m\u001b[43m,\u001b[49m\n\u001b[32m    792\u001b[39m \u001b[43m    \u001b[49m\u001b[43mbody\u001b[49m\u001b[43m=\u001b[49m\u001b[43mbody\u001b[49m\u001b[43m,\u001b[49m\n\u001b[32m    793\u001b[39m \u001b[43m    \u001b[49m\u001b[43mheaders\u001b[49m\u001b[43m=\u001b[49m\u001b[43mheaders\u001b[49m\u001b[43m,\u001b[49m\n\u001b[32m    794\u001b[39m \u001b[43m    \u001b[49m\u001b[43mchunked\u001b[49m\u001b[43m=\u001b[49m\u001b[43mchunked\u001b[49m\u001b[43m,\u001b[49m\n\u001b[32m    795\u001b[39m \u001b[43m    \u001b[49m\u001b[43mretries\u001b[49m\u001b[43m=\u001b[49m\u001b[43mretries\u001b[49m\u001b[43m,\u001b[49m\n\u001b[32m    796\u001b[39m \u001b[43m    \u001b[49m\u001b[43mresponse_conn\u001b[49m\u001b[43m=\u001b[49m\u001b[43mresponse_conn\u001b[49m\u001b[43m,\u001b[49m\n\u001b[32m    797\u001b[39m \u001b[43m    \u001b[49m\u001b[43mpreload_content\u001b[49m\u001b[43m=\u001b[49m\u001b[43mpreload_content\u001b[49m\u001b[43m,\u001b[49m\n\u001b[32m    798\u001b[39m \u001b[43m    \u001b[49m\u001b[43mdecode_content\u001b[49m\u001b[43m=\u001b[49m\u001b[43mdecode_content\u001b[49m\u001b[43m,\u001b[49m\n\u001b[32m    799\u001b[39m \u001b[43m    \u001b[49m\u001b[43m*\u001b[49m\u001b[43m*\u001b[49m\u001b[43mresponse_kw\u001b[49m\u001b[43m,\u001b[49m\n\u001b[32m    800\u001b[39m \u001b[43m\u001b[49m\u001b[43m)\u001b[49m\n\u001b[32m    802\u001b[39m \u001b[38;5;66;03m# Everything went great!\u001b[39;00m\n",
      "\u001b[36mFile \u001b[39m\u001b[32mc:\\Users\\sccw60\\AppData\\Local\\anaconda3\\envs\\sim_user\\Lib\\site-packages\\urllib3\\connectionpool.py:493\u001b[39m, in \u001b[36mHTTPConnectionPool._make_request\u001b[39m\u001b[34m(self, conn, method, url, body, headers, retries, timeout, chunked, response_conn, preload_content, decode_content, enforce_content_length)\u001b[39m\n\u001b[32m    492\u001b[39m \u001b[38;5;28;01mtry\u001b[39;00m:\n\u001b[32m--> \u001b[39m\u001b[32m493\u001b[39m     \u001b[43mconn\u001b[49m\u001b[43m.\u001b[49m\u001b[43mrequest\u001b[49m\u001b[43m(\u001b[49m\n\u001b[32m    494\u001b[39m \u001b[43m        \u001b[49m\u001b[43mmethod\u001b[49m\u001b[43m,\u001b[49m\n\u001b[32m    495\u001b[39m \u001b[43m        \u001b[49m\u001b[43murl\u001b[49m\u001b[43m,\u001b[49m\n\u001b[32m    496\u001b[39m \u001b[43m        \u001b[49m\u001b[43mbody\u001b[49m\u001b[43m=\u001b[49m\u001b[43mbody\u001b[49m\u001b[43m,\u001b[49m\n\u001b[32m    497\u001b[39m \u001b[43m        \u001b[49m\u001b[43mheaders\u001b[49m\u001b[43m=\u001b[49m\u001b[43mheaders\u001b[49m\u001b[43m,\u001b[49m\n\u001b[32m    498\u001b[39m \u001b[43m        \u001b[49m\u001b[43mchunked\u001b[49m\u001b[43m=\u001b[49m\u001b[43mchunked\u001b[49m\u001b[43m,\u001b[49m\n\u001b[32m    499\u001b[39m \u001b[43m        \u001b[49m\u001b[43mpreload_content\u001b[49m\u001b[43m=\u001b[49m\u001b[43mpreload_content\u001b[49m\u001b[43m,\u001b[49m\n\u001b[32m    500\u001b[39m \u001b[43m        \u001b[49m\u001b[43mdecode_content\u001b[49m\u001b[43m=\u001b[49m\u001b[43mdecode_content\u001b[49m\u001b[43m,\u001b[49m\n\u001b[32m    501\u001b[39m \u001b[43m        \u001b[49m\u001b[43menforce_content_length\u001b[49m\u001b[43m=\u001b[49m\u001b[43menforce_content_length\u001b[49m\u001b[43m,\u001b[49m\n\u001b[32m    502\u001b[39m \u001b[43m    \u001b[49m\u001b[43m)\u001b[49m\n\u001b[32m    504\u001b[39m \u001b[38;5;66;03m# We are swallowing BrokenPipeError (errno.EPIPE) since the server is\u001b[39;00m\n\u001b[32m    505\u001b[39m \u001b[38;5;66;03m# legitimately able to close the connection after sending a valid response.\u001b[39;00m\n\u001b[32m    506\u001b[39m \u001b[38;5;66;03m# With this behaviour, the received response is still readable.\u001b[39;00m\n",
      "\u001b[36mFile \u001b[39m\u001b[32mc:\\Users\\sccw60\\AppData\\Local\\anaconda3\\envs\\sim_user\\Lib\\site-packages\\urllib3\\connection.py:494\u001b[39m, in \u001b[36mHTTPConnection.request\u001b[39m\u001b[34m(self, method, url, body, headers, chunked, preload_content, decode_content, enforce_content_length)\u001b[39m\n\u001b[32m    493\u001b[39m     \u001b[38;5;28mself\u001b[39m.putheader(header, value)\n\u001b[32m--> \u001b[39m\u001b[32m494\u001b[39m \u001b[38;5;28;43mself\u001b[39;49m\u001b[43m.\u001b[49m\u001b[43mendheaders\u001b[49m\u001b[43m(\u001b[49m\u001b[43m)\u001b[49m\n\u001b[32m    496\u001b[39m \u001b[38;5;66;03m# If we're given a body we start sending that in chunks.\u001b[39;00m\n",
      "\u001b[36mFile \u001b[39m\u001b[32mc:\\Users\\sccw60\\AppData\\Local\\anaconda3\\envs\\sim_user\\Lib\\http\\client.py:1333\u001b[39m, in \u001b[36mHTTPConnection.endheaders\u001b[39m\u001b[34m(self, message_body, encode_chunked)\u001b[39m\n\u001b[32m   1332\u001b[39m     \u001b[38;5;28;01mraise\u001b[39;00m CannotSendHeader()\n\u001b[32m-> \u001b[39m\u001b[32m1333\u001b[39m \u001b[38;5;28;43mself\u001b[39;49m\u001b[43m.\u001b[49m\u001b[43m_send_output\u001b[49m\u001b[43m(\u001b[49m\u001b[43mmessage_body\u001b[49m\u001b[43m,\u001b[49m\u001b[43m \u001b[49m\u001b[43mencode_chunked\u001b[49m\u001b[43m=\u001b[49m\u001b[43mencode_chunked\u001b[49m\u001b[43m)\u001b[49m\n",
      "\u001b[36mFile \u001b[39m\u001b[32mc:\\Users\\sccw60\\AppData\\Local\\anaconda3\\envs\\sim_user\\Lib\\http\\client.py:1093\u001b[39m, in \u001b[36mHTTPConnection._send_output\u001b[39m\u001b[34m(self, message_body, encode_chunked)\u001b[39m\n\u001b[32m   1092\u001b[39m \u001b[38;5;28;01mdel\u001b[39;00m \u001b[38;5;28mself\u001b[39m._buffer[:]\n\u001b[32m-> \u001b[39m\u001b[32m1093\u001b[39m \u001b[38;5;28;43mself\u001b[39;49m\u001b[43m.\u001b[49m\u001b[43msend\u001b[49m\u001b[43m(\u001b[49m\u001b[43mmsg\u001b[49m\u001b[43m)\u001b[49m\n\u001b[32m   1095\u001b[39m \u001b[38;5;28;01mif\u001b[39;00m message_body \u001b[38;5;129;01mis\u001b[39;00m \u001b[38;5;129;01mnot\u001b[39;00m \u001b[38;5;28;01mNone\u001b[39;00m:\n\u001b[32m   1096\u001b[39m \n\u001b[32m   1097\u001b[39m     \u001b[38;5;66;03m# create a consistent interface to message_body\u001b[39;00m\n",
      "\u001b[36mFile \u001b[39m\u001b[32mc:\\Users\\sccw60\\AppData\\Local\\anaconda3\\envs\\sim_user\\Lib\\http\\client.py:1037\u001b[39m, in \u001b[36mHTTPConnection.send\u001b[39m\u001b[34m(self, data)\u001b[39m\n\u001b[32m   1036\u001b[39m \u001b[38;5;28;01mif\u001b[39;00m \u001b[38;5;28mself\u001b[39m.auto_open:\n\u001b[32m-> \u001b[39m\u001b[32m1037\u001b[39m     \u001b[38;5;28;43mself\u001b[39;49m\u001b[43m.\u001b[49m\u001b[43mconnect\u001b[49m\u001b[43m(\u001b[49m\u001b[43m)\u001b[49m\n\u001b[32m   1038\u001b[39m \u001b[38;5;28;01melse\u001b[39;00m:\n",
      "\u001b[36mFile \u001b[39m\u001b[32mc:\\Users\\sccw60\\AppData\\Local\\anaconda3\\envs\\sim_user\\Lib\\site-packages\\urllib3\\connection.py:325\u001b[39m, in \u001b[36mHTTPConnection.connect\u001b[39m\u001b[34m(self)\u001b[39m\n\u001b[32m    324\u001b[39m \u001b[38;5;28;01mdef\u001b[39;00m\u001b[38;5;250m \u001b[39m\u001b[34mconnect\u001b[39m(\u001b[38;5;28mself\u001b[39m) -> \u001b[38;5;28;01mNone\u001b[39;00m:\n\u001b[32m--> \u001b[39m\u001b[32m325\u001b[39m     \u001b[38;5;28mself\u001b[39m.sock = \u001b[38;5;28;43mself\u001b[39;49m\u001b[43m.\u001b[49m\u001b[43m_new_conn\u001b[49m\u001b[43m(\u001b[49m\u001b[43m)\u001b[49m\n\u001b[32m    326\u001b[39m     \u001b[38;5;28;01mif\u001b[39;00m \u001b[38;5;28mself\u001b[39m._tunnel_host:\n\u001b[32m    327\u001b[39m         \u001b[38;5;66;03m# If we're tunneling it means we're connected to our proxy.\u001b[39;00m\n",
      "\u001b[36mFile \u001b[39m\u001b[32mc:\\Users\\sccw60\\AppData\\Local\\anaconda3\\envs\\sim_user\\Lib\\site-packages\\urllib3\\connection.py:213\u001b[39m, in \u001b[36mHTTPConnection._new_conn\u001b[39m\u001b[34m(self)\u001b[39m\n\u001b[32m    212\u001b[39m \u001b[38;5;28;01mexcept\u001b[39;00m \u001b[38;5;167;01mOSError\u001b[39;00m \u001b[38;5;28;01mas\u001b[39;00m e:\n\u001b[32m--> \u001b[39m\u001b[32m213\u001b[39m     \u001b[38;5;28;01mraise\u001b[39;00m NewConnectionError(\n\u001b[32m    214\u001b[39m         \u001b[38;5;28mself\u001b[39m, \u001b[33mf\u001b[39m\u001b[33m\"\u001b[39m\u001b[33mFailed to establish a new connection: \u001b[39m\u001b[38;5;132;01m{\u001b[39;00me\u001b[38;5;132;01m}\u001b[39;00m\u001b[33m\"\u001b[39m\n\u001b[32m    215\u001b[39m     ) \u001b[38;5;28;01mfrom\u001b[39;00m\u001b[38;5;250m \u001b[39m\u001b[34;01me\u001b[39;00m\n\u001b[32m    217\u001b[39m sys.audit(\u001b[33m\"\u001b[39m\u001b[33mhttp.client.connect\u001b[39m\u001b[33m\"\u001b[39m, \u001b[38;5;28mself\u001b[39m, \u001b[38;5;28mself\u001b[39m.host, \u001b[38;5;28mself\u001b[39m.port)\n",
      "\u001b[31mNewConnectionError\u001b[39m: <urllib3.connection.HTTPConnection object at 0x00000180F8B2AAE0>: Failed to establish a new connection: [WinError 10061] No connection could be made because the target machine actively refused it",
      "\nThe above exception was the direct cause of the following exception:\n",
      "\u001b[31mMaxRetryError\u001b[39m                             Traceback (most recent call last)",
      "\u001b[36mFile \u001b[39m\u001b[32mc:\\Users\\sccw60\\AppData\\Local\\anaconda3\\envs\\sim_user\\Lib\\site-packages\\requests\\adapters.py:667\u001b[39m, in \u001b[36mHTTPAdapter.send\u001b[39m\u001b[34m(self, request, stream, timeout, verify, cert, proxies)\u001b[39m\n\u001b[32m    666\u001b[39m \u001b[38;5;28;01mtry\u001b[39;00m:\n\u001b[32m--> \u001b[39m\u001b[32m667\u001b[39m     resp = \u001b[43mconn\u001b[49m\u001b[43m.\u001b[49m\u001b[43murlopen\u001b[49m\u001b[43m(\u001b[49m\n\u001b[32m    668\u001b[39m \u001b[43m        \u001b[49m\u001b[43mmethod\u001b[49m\u001b[43m=\u001b[49m\u001b[43mrequest\u001b[49m\u001b[43m.\u001b[49m\u001b[43mmethod\u001b[49m\u001b[43m,\u001b[49m\n\u001b[32m    669\u001b[39m \u001b[43m        \u001b[49m\u001b[43murl\u001b[49m\u001b[43m=\u001b[49m\u001b[43murl\u001b[49m\u001b[43m,\u001b[49m\n\u001b[32m    670\u001b[39m \u001b[43m        \u001b[49m\u001b[43mbody\u001b[49m\u001b[43m=\u001b[49m\u001b[43mrequest\u001b[49m\u001b[43m.\u001b[49m\u001b[43mbody\u001b[49m\u001b[43m,\u001b[49m\n\u001b[32m    671\u001b[39m \u001b[43m        \u001b[49m\u001b[43mheaders\u001b[49m\u001b[43m=\u001b[49m\u001b[43mrequest\u001b[49m\u001b[43m.\u001b[49m\u001b[43mheaders\u001b[49m\u001b[43m,\u001b[49m\n\u001b[32m    672\u001b[39m \u001b[43m        \u001b[49m\u001b[43mredirect\u001b[49m\u001b[43m=\u001b[49m\u001b[38;5;28;43;01mFalse\u001b[39;49;00m\u001b[43m,\u001b[49m\n\u001b[32m    673\u001b[39m \u001b[43m        \u001b[49m\u001b[43massert_same_host\u001b[49m\u001b[43m=\u001b[49m\u001b[38;5;28;43;01mFalse\u001b[39;49;00m\u001b[43m,\u001b[49m\n\u001b[32m    674\u001b[39m \u001b[43m        \u001b[49m\u001b[43mpreload_content\u001b[49m\u001b[43m=\u001b[49m\u001b[38;5;28;43;01mFalse\u001b[39;49;00m\u001b[43m,\u001b[49m\n\u001b[32m    675\u001b[39m \u001b[43m        \u001b[49m\u001b[43mdecode_content\u001b[49m\u001b[43m=\u001b[49m\u001b[38;5;28;43;01mFalse\u001b[39;49;00m\u001b[43m,\u001b[49m\n\u001b[32m    676\u001b[39m \u001b[43m        \u001b[49m\u001b[43mretries\u001b[49m\u001b[43m=\u001b[49m\u001b[38;5;28;43mself\u001b[39;49m\u001b[43m.\u001b[49m\u001b[43mmax_retries\u001b[49m\u001b[43m,\u001b[49m\n\u001b[32m    677\u001b[39m \u001b[43m        \u001b[49m\u001b[43mtimeout\u001b[49m\u001b[43m=\u001b[49m\u001b[43mtimeout\u001b[49m\u001b[43m,\u001b[49m\n\u001b[32m    678\u001b[39m \u001b[43m        \u001b[49m\u001b[43mchunked\u001b[49m\u001b[43m=\u001b[49m\u001b[43mchunked\u001b[49m\u001b[43m,\u001b[49m\n\u001b[32m    679\u001b[39m \u001b[43m    \u001b[49m\u001b[43m)\u001b[49m\n\u001b[32m    681\u001b[39m \u001b[38;5;28;01mexcept\u001b[39;00m (ProtocolError, \u001b[38;5;167;01mOSError\u001b[39;00m) \u001b[38;5;28;01mas\u001b[39;00m err:\n",
      "\u001b[36mFile \u001b[39m\u001b[32mc:\\Users\\sccw60\\AppData\\Local\\anaconda3\\envs\\sim_user\\Lib\\site-packages\\urllib3\\connectionpool.py:841\u001b[39m, in \u001b[36mHTTPConnectionPool.urlopen\u001b[39m\u001b[34m(self, method, url, body, headers, retries, redirect, assert_same_host, timeout, pool_timeout, release_conn, chunked, body_pos, preload_content, decode_content, **response_kw)\u001b[39m\n\u001b[32m    839\u001b[39m     new_e = ProtocolError(\u001b[33m\"\u001b[39m\u001b[33mConnection aborted.\u001b[39m\u001b[33m\"\u001b[39m, new_e)\n\u001b[32m--> \u001b[39m\u001b[32m841\u001b[39m retries = \u001b[43mretries\u001b[49m\u001b[43m.\u001b[49m\u001b[43mincrement\u001b[49m\u001b[43m(\u001b[49m\n\u001b[32m    842\u001b[39m \u001b[43m    \u001b[49m\u001b[43mmethod\u001b[49m\u001b[43m,\u001b[49m\u001b[43m \u001b[49m\u001b[43murl\u001b[49m\u001b[43m,\u001b[49m\u001b[43m \u001b[49m\u001b[43merror\u001b[49m\u001b[43m=\u001b[49m\u001b[43mnew_e\u001b[49m\u001b[43m,\u001b[49m\u001b[43m \u001b[49m\u001b[43m_pool\u001b[49m\u001b[43m=\u001b[49m\u001b[38;5;28;43mself\u001b[39;49m\u001b[43m,\u001b[49m\u001b[43m \u001b[49m\u001b[43m_stacktrace\u001b[49m\u001b[43m=\u001b[49m\u001b[43msys\u001b[49m\u001b[43m.\u001b[49m\u001b[43mexc_info\u001b[49m\u001b[43m(\u001b[49m\u001b[43m)\u001b[49m\u001b[43m[\u001b[49m\u001b[32;43m2\u001b[39;49m\u001b[43m]\u001b[49m\n\u001b[32m    843\u001b[39m \u001b[43m\u001b[49m\u001b[43m)\u001b[49m\n\u001b[32m    844\u001b[39m retries.sleep()\n",
      "\u001b[36mFile \u001b[39m\u001b[32mc:\\Users\\sccw60\\AppData\\Local\\anaconda3\\envs\\sim_user\\Lib\\site-packages\\urllib3\\util\\retry.py:519\u001b[39m, in \u001b[36mRetry.increment\u001b[39m\u001b[34m(self, method, url, response, error, _pool, _stacktrace)\u001b[39m\n\u001b[32m    518\u001b[39m     reason = error \u001b[38;5;129;01mor\u001b[39;00m ResponseError(cause)\n\u001b[32m--> \u001b[39m\u001b[32m519\u001b[39m     \u001b[38;5;28;01mraise\u001b[39;00m MaxRetryError(_pool, url, reason) \u001b[38;5;28;01mfrom\u001b[39;00m\u001b[38;5;250m \u001b[39m\u001b[34;01mreason\u001b[39;00m  \u001b[38;5;66;03m# type: ignore[arg-type]\u001b[39;00m\n\u001b[32m    521\u001b[39m log.debug(\u001b[33m\"\u001b[39m\u001b[33mIncremented Retry for (url=\u001b[39m\u001b[33m'\u001b[39m\u001b[38;5;132;01m%s\u001b[39;00m\u001b[33m'\u001b[39m\u001b[33m): \u001b[39m\u001b[38;5;132;01m%r\u001b[39;00m\u001b[33m\"\u001b[39m, url, new_retry)\n",
      "\u001b[31mMaxRetryError\u001b[39m: HTTPConnectionPool(host='127.0.0.1', port=8001): Max retries exceeded with url: /lab/stations/get?identifier=yumi_station (Caused by NewConnectionError('<urllib3.connection.HTTPConnection object at 0x00000180F8B2AAE0>: Failed to establish a new connection: [WinError 10061] No connection could be made because the target machine actively refused it'))",
      "\nDuring handling of the above exception, another exception occurred:\n",
      "\u001b[31mConnectionError\u001b[39m                           Traceback (most recent call last)",
      "\u001b[36mFile \u001b[39m\u001b[32mc:\\Users\\sccw60\\AppData\\Local\\anaconda3\\envs\\sim_user\\Lib\\site-packages\\ochra_common\\connections\\rest_adapter.py:100\u001b[39m, in \u001b[36mRestAdapter._do\u001b[39m\u001b[34m(self, http_method, endpoint, ep_params, data, files, jsonify)\u001b[39m\n\u001b[32m     99\u001b[39m     \u001b[38;5;28mself\u001b[39m._logger.debug(msg=log_line_pre)\n\u001b[32m--> \u001b[39m\u001b[32m100\u001b[39m     response = \u001b[43mrequests\u001b[49m\u001b[43m.\u001b[49m\u001b[43mrequest\u001b[49m\u001b[43m(\u001b[49m\n\u001b[32m    101\u001b[39m \u001b[43m        \u001b[49m\u001b[43mmethod\u001b[49m\u001b[43m=\u001b[49m\u001b[43mhttp_method\u001b[49m\u001b[43m,\u001b[49m\n\u001b[32m    102\u001b[39m \u001b[43m        \u001b[49m\u001b[43murl\u001b[49m\u001b[43m=\u001b[49m\u001b[43mfull_url\u001b[49m\u001b[43m,\u001b[49m\n\u001b[32m    103\u001b[39m \u001b[43m        \u001b[49m\u001b[43mverify\u001b[49m\u001b[43m=\u001b[49m\u001b[38;5;28;43mself\u001b[39;49m\u001b[43m.\u001b[49m\u001b[43m_ssl_verify\u001b[49m\u001b[43m,\u001b[49m\n\u001b[32m    104\u001b[39m \u001b[43m        \u001b[49m\u001b[43mheaders\u001b[49m\u001b[43m=\u001b[49m\u001b[43mheaders\u001b[49m\u001b[43m,\u001b[49m\n\u001b[32m    105\u001b[39m \u001b[43m        \u001b[49m\u001b[43mparams\u001b[49m\u001b[43m=\u001b[49m\u001b[43mep_params\u001b[49m\u001b[43m,\u001b[49m\n\u001b[32m    106\u001b[39m \u001b[43m        \u001b[49m\u001b[43mjson\u001b[49m\u001b[43m=\u001b[49m\u001b[43mdata\u001b[49m\u001b[43m,\u001b[49m\n\u001b[32m    107\u001b[39m \u001b[43m        \u001b[49m\u001b[43mfiles\u001b[49m\u001b[43m=\u001b[49m\u001b[43mfiles\u001b[49m\u001b[43m,\u001b[49m\n\u001b[32m    108\u001b[39m \u001b[43m    \u001b[49m\u001b[43m)\u001b[49m\n\u001b[32m    109\u001b[39m \u001b[38;5;28;01mexcept\u001b[39;00m requests.exceptions.RequestException \u001b[38;5;28;01mas\u001b[39;00m e:\n",
      "\u001b[36mFile \u001b[39m\u001b[32mc:\\Users\\sccw60\\AppData\\Local\\anaconda3\\envs\\sim_user\\Lib\\site-packages\\requests\\api.py:59\u001b[39m, in \u001b[36mrequest\u001b[39m\u001b[34m(method, url, **kwargs)\u001b[39m\n\u001b[32m     58\u001b[39m \u001b[38;5;28;01mwith\u001b[39;00m sessions.Session() \u001b[38;5;28;01mas\u001b[39;00m session:\n\u001b[32m---> \u001b[39m\u001b[32m59\u001b[39m     \u001b[38;5;28;01mreturn\u001b[39;00m \u001b[43msession\u001b[49m\u001b[43m.\u001b[49m\u001b[43mrequest\u001b[49m\u001b[43m(\u001b[49m\u001b[43mmethod\u001b[49m\u001b[43m=\u001b[49m\u001b[43mmethod\u001b[49m\u001b[43m,\u001b[49m\u001b[43m \u001b[49m\u001b[43murl\u001b[49m\u001b[43m=\u001b[49m\u001b[43murl\u001b[49m\u001b[43m,\u001b[49m\u001b[43m \u001b[49m\u001b[43m*\u001b[49m\u001b[43m*\u001b[49m\u001b[43mkwargs\u001b[49m\u001b[43m)\u001b[49m\n",
      "\u001b[36mFile \u001b[39m\u001b[32mc:\\Users\\sccw60\\AppData\\Local\\anaconda3\\envs\\sim_user\\Lib\\site-packages\\requests\\sessions.py:589\u001b[39m, in \u001b[36mSession.request\u001b[39m\u001b[34m(self, method, url, params, data, headers, cookies, files, auth, timeout, allow_redirects, proxies, hooks, stream, verify, cert, json)\u001b[39m\n\u001b[32m    588\u001b[39m send_kwargs.update(settings)\n\u001b[32m--> \u001b[39m\u001b[32m589\u001b[39m resp = \u001b[38;5;28;43mself\u001b[39;49m\u001b[43m.\u001b[49m\u001b[43msend\u001b[49m\u001b[43m(\u001b[49m\u001b[43mprep\u001b[49m\u001b[43m,\u001b[49m\u001b[43m \u001b[49m\u001b[43m*\u001b[49m\u001b[43m*\u001b[49m\u001b[43msend_kwargs\u001b[49m\u001b[43m)\u001b[49m\n\u001b[32m    591\u001b[39m \u001b[38;5;28;01mreturn\u001b[39;00m resp\n",
      "\u001b[36mFile \u001b[39m\u001b[32mc:\\Users\\sccw60\\AppData\\Local\\anaconda3\\envs\\sim_user\\Lib\\site-packages\\requests\\sessions.py:703\u001b[39m, in \u001b[36mSession.send\u001b[39m\u001b[34m(self, request, **kwargs)\u001b[39m\n\u001b[32m    702\u001b[39m \u001b[38;5;66;03m# Send the request\u001b[39;00m\n\u001b[32m--> \u001b[39m\u001b[32m703\u001b[39m r = \u001b[43madapter\u001b[49m\u001b[43m.\u001b[49m\u001b[43msend\u001b[49m\u001b[43m(\u001b[49m\u001b[43mrequest\u001b[49m\u001b[43m,\u001b[49m\u001b[43m \u001b[49m\u001b[43m*\u001b[49m\u001b[43m*\u001b[49m\u001b[43mkwargs\u001b[49m\u001b[43m)\u001b[49m\n\u001b[32m    705\u001b[39m \u001b[38;5;66;03m# Total elapsed time of the request (approximately)\u001b[39;00m\n",
      "\u001b[36mFile \u001b[39m\u001b[32mc:\\Users\\sccw60\\AppData\\Local\\anaconda3\\envs\\sim_user\\Lib\\site-packages\\requests\\adapters.py:700\u001b[39m, in \u001b[36mHTTPAdapter.send\u001b[39m\u001b[34m(self, request, stream, timeout, verify, cert, proxies)\u001b[39m\n\u001b[32m    698\u001b[39m         \u001b[38;5;28;01mraise\u001b[39;00m SSLError(e, request=request)\n\u001b[32m--> \u001b[39m\u001b[32m700\u001b[39m     \u001b[38;5;28;01mraise\u001b[39;00m \u001b[38;5;167;01mConnectionError\u001b[39;00m(e, request=request)\n\u001b[32m    702\u001b[39m \u001b[38;5;28;01mexcept\u001b[39;00m ClosedPoolError \u001b[38;5;28;01mas\u001b[39;00m e:\n",
      "\u001b[31mConnectionError\u001b[39m: HTTPConnectionPool(host='127.0.0.1', port=8001): Max retries exceeded with url: /lab/stations/get?identifier=yumi_station (Caused by NewConnectionError('<urllib3.connection.HTTPConnection object at 0x00000180F8B2AAE0>: Failed to establish a new connection: [WinError 10061] No connection could be made because the target machine actively refused it'))",
      "\nDuring handling of the above exception, another exception occurred:\n",
      "\u001b[31mLabEngineException\u001b[39m                        Traceback (most recent call last)",
      "\u001b[36mCell\u001b[39m\u001b[36m \u001b[39m\u001b[32mIn[8]\u001b[39m\u001b[32m, line 2\u001b[39m\n\u001b[32m      1\u001b[39m \u001b[38;5;66;03m# get station\u001b[39;00m\n\u001b[32m----> \u001b[39m\u001b[32m2\u001b[39m yumi_station = \u001b[43mlab\u001b[49m\u001b[43m.\u001b[49m\u001b[43mget_station\u001b[49m\u001b[43m(\u001b[49m\u001b[33;43m\"\u001b[39;49m\u001b[33;43myumi_station\u001b[39;49m\u001b[33;43m\"\u001b[39;49m\u001b[43m)\u001b[49m\n",
      "\u001b[36mFile \u001b[39m\u001b[32mc:\\Users\\sccw60\\AppData\\Local\\anaconda3\\envs\\sim_user\\Lib\\site-packages\\ochra_discovery\\spaces\\lab.py:29\u001b[39m, in \u001b[36mLab.get_station\u001b[39m\u001b[34m(self, station_name)\u001b[39m\n\u001b[32m     18\u001b[39m \u001b[38;5;28;01mdef\u001b[39;00m\u001b[38;5;250m \u001b[39m\u001b[34mget_station\u001b[39m(\n\u001b[32m     19\u001b[39m     \u001b[38;5;28mself\u001b[39m, station_name: \u001b[38;5;28mstr\u001b[39m\n\u001b[32m     20\u001b[39m ) -> Station:\n\u001b[32m     21\u001b[39m \u001b[38;5;250m    \u001b[39m\u001b[33;03m\"\"\"Get a station object by name.\u001b[39;00m\n\u001b[32m     22\u001b[39m \n\u001b[32m     23\u001b[39m \u001b[33;03m    Args:\u001b[39;00m\n\u001b[32m   (...)\u001b[39m\u001b[32m     27\u001b[39m \u001b[33;03m        Station: The station object.\u001b[39;00m\n\u001b[32m     28\u001b[39m \u001b[33;03m    \"\"\"\u001b[39;00m\n\u001b[32m---> \u001b[39m\u001b[32m29\u001b[39m     \u001b[38;5;28;01mreturn\u001b[39;00m \u001b[38;5;28;43mself\u001b[39;49m\u001b[43m.\u001b[49m\u001b[43m_lab_conn\u001b[49m\u001b[43m.\u001b[49m\u001b[43mget_object\u001b[49m\u001b[43m(\u001b[49m\u001b[33;43m\"\u001b[39;49m\u001b[33;43mlab/stations\u001b[39;49m\u001b[33;43m\"\u001b[39;49m\u001b[43m,\u001b[49m\u001b[43m \u001b[49m\u001b[43mstation_name\u001b[49m\u001b[43m)\u001b[49m\n",
      "\u001b[36mFile \u001b[39m\u001b[32mc:\\Users\\sccw60\\AppData\\Local\\anaconda3\\envs\\sim_user\\Lib\\site-packages\\ochra_common\\connections\\lab_connection.py:106\u001b[39m, in \u001b[36mLabConnection.get_object\u001b[39m\u001b[34m(self, type, identifier)\u001b[39m\n\u001b[32m     93\u001b[39m \u001b[38;5;28;01mdef\u001b[39;00m\u001b[38;5;250m \u001b[39m\u001b[34mget_object\u001b[39m(\u001b[38;5;28mself\u001b[39m, \u001b[38;5;28mtype\u001b[39m: \u001b[38;5;28mstr\u001b[39m, identifier: Union[\u001b[38;5;28mstr\u001b[39m, UUID]) -> Any:\n\u001b[32m     94\u001b[39m \u001b[38;5;250m    \u001b[39m\u001b[33;03m\"\"\"get object from lab\u001b[39;00m\n\u001b[32m     95\u001b[39m \n\u001b[32m     96\u001b[39m \u001b[33;03m    Args:\u001b[39;00m\n\u001b[32m   (...)\u001b[39m\u001b[32m    104\u001b[39m \u001b[33;03m        Any: instance of the class\u001b[39;00m\n\u001b[32m    105\u001b[39m \u001b[33;03m    \"\"\"\u001b[39;00m\n\u001b[32m--> \u001b[39m\u001b[32m106\u001b[39m     result: Result = \u001b[38;5;28;43mself\u001b[39;49m\u001b[43m.\u001b[49m\u001b[43mrest_adapter\u001b[49m\u001b[43m.\u001b[49m\u001b[43mget\u001b[49m\u001b[43m(\u001b[49m\n\u001b[32m    107\u001b[39m \u001b[43m        \u001b[49m\u001b[33;43mf\u001b[39;49m\u001b[33;43m\"\u001b[39;49m\u001b[33;43m/\u001b[39;49m\u001b[38;5;132;43;01m{\u001b[39;49;00m\u001b[38;5;28;43mtype\u001b[39;49m\u001b[38;5;132;43;01m}\u001b[39;49;00m\u001b[33;43m/get\u001b[39;49m\u001b[33;43m\"\u001b[39;49m\u001b[43m,\u001b[49m\u001b[43m \u001b[49m\u001b[43m{\u001b[49m\u001b[33;43m\"\u001b[39;49m\u001b[33;43midentifier\u001b[39;49m\u001b[33;43m\"\u001b[39;49m\u001b[43m:\u001b[49m\u001b[43m \u001b[49m\u001b[38;5;28;43mstr\u001b[39;49m\u001b[43m(\u001b[49m\u001b[43midentifier\u001b[49m\u001b[43m)\u001b[49m\u001b[43m}\u001b[49m\n\u001b[32m    108\u001b[39m \u001b[43m    \u001b[49m\u001b[43m)\u001b[49m\n\u001b[32m    109\u001b[39m     \u001b[38;5;28;01mtry\u001b[39;00m:\n\u001b[32m    110\u001b[39m         base_model = convert_to_data_model(result.data)\n",
      "\u001b[36mFile \u001b[39m\u001b[32mc:\\Users\\sccw60\\AppData\\Local\\anaconda3\\envs\\sim_user\\Lib\\site-packages\\ochra_common\\connections\\rest_adapter.py:152\u001b[39m, in \u001b[36mRestAdapter.get\u001b[39m\u001b[34m(self, endpoint, ep_params, data, jsonify)\u001b[39m\n\u001b[32m    139\u001b[39m \u001b[38;5;28;01mdef\u001b[39;00m\u001b[38;5;250m \u001b[39m\u001b[34mget\u001b[39m(\n\u001b[32m    140\u001b[39m     \u001b[38;5;28mself\u001b[39m, endpoint: \u001b[38;5;28mstr\u001b[39m, ep_params: Dict = \u001b[38;5;28;01mNone\u001b[39;00m, data: Dict = \u001b[38;5;28;01mNone\u001b[39;00m, jsonify=\u001b[38;5;28;01mTrue\u001b[39;00m\n\u001b[32m    141\u001b[39m ) -> Result:\n\u001b[32m    142\u001b[39m \u001b[38;5;250m    \u001b[39m\u001b[33;03m\"\"\"do a get request to endpoint using _do\u001b[39;00m\n\u001b[32m    143\u001b[39m \n\u001b[32m    144\u001b[39m \u001b[33;03m    Args:\u001b[39;00m\n\u001b[32m   (...)\u001b[39m\u001b[32m    150\u001b[39m \u001b[33;03m        Result: Data from request in the form of a Result instances\u001b[39;00m\n\u001b[32m    151\u001b[39m \u001b[33;03m    \"\"\"\u001b[39;00m\n\u001b[32m--> \u001b[39m\u001b[32m152\u001b[39m     \u001b[38;5;28;01mreturn\u001b[39;00m \u001b[38;5;28;43mself\u001b[39;49m\u001b[43m.\u001b[49m\u001b[43m_do\u001b[49m\u001b[43m(\u001b[49m\n\u001b[32m    153\u001b[39m \u001b[43m        \u001b[49m\u001b[43mhttp_method\u001b[49m\u001b[43m=\u001b[49m\u001b[33;43m\"\u001b[39;49m\u001b[33;43mGET\u001b[39;49m\u001b[33;43m\"\u001b[39;49m\u001b[43m,\u001b[49m\n\u001b[32m    154\u001b[39m \u001b[43m        \u001b[49m\u001b[43mendpoint\u001b[49m\u001b[43m=\u001b[49m\u001b[43mendpoint\u001b[49m\u001b[43m,\u001b[49m\n\u001b[32m    155\u001b[39m \u001b[43m        \u001b[49m\u001b[43mep_params\u001b[49m\u001b[43m=\u001b[49m\u001b[43mep_params\u001b[49m\u001b[43m,\u001b[49m\n\u001b[32m    156\u001b[39m \u001b[43m        \u001b[49m\u001b[43mdata\u001b[49m\u001b[43m=\u001b[49m\u001b[43mdata\u001b[49m\u001b[43m,\u001b[49m\n\u001b[32m    157\u001b[39m \u001b[43m        \u001b[49m\u001b[43mjsonify\u001b[49m\u001b[43m=\u001b[49m\u001b[43mjsonify\u001b[49m\u001b[43m,\u001b[49m\n\u001b[32m    158\u001b[39m \u001b[43m    \u001b[49m\u001b[43m)\u001b[49m\n",
      "\u001b[36mFile \u001b[39m\u001b[32mc:\\Users\\sccw60\\AppData\\Local\\anaconda3\\envs\\sim_user\\Lib\\site-packages\\ochra_common\\connections\\rest_adapter.py:111\u001b[39m, in \u001b[36mRestAdapter._do\u001b[39m\u001b[34m(self, http_method, endpoint, ep_params, data, files, jsonify)\u001b[39m\n\u001b[32m    109\u001b[39m \u001b[38;5;28;01mexcept\u001b[39;00m requests.exceptions.RequestException \u001b[38;5;28;01mas\u001b[39;00m e:\n\u001b[32m    110\u001b[39m     \u001b[38;5;28mself\u001b[39m._logger.error(msg=\u001b[38;5;28mstr\u001b[39m(e))\n\u001b[32m--> \u001b[39m\u001b[32m111\u001b[39m     \u001b[38;5;28;01mraise\u001b[39;00m LabEngineException(\u001b[33mf\u001b[39m\u001b[33m\"\u001b[39m\u001b[33mRequest Failed: \u001b[39m\u001b[38;5;132;01m{\u001b[39;00me\u001b[38;5;132;01m}\u001b[39;00m\u001b[33m\"\u001b[39m)\n\u001b[32m    113\u001b[39m \u001b[38;5;28;01mif\u001b[39;00m \u001b[38;5;129;01mnot\u001b[39;00m jsonify:\n\u001b[32m    114\u001b[39m     \u001b[38;5;28;01mreturn\u001b[39;00m response\n",
      "\u001b[31mLabEngineException\u001b[39m: Request Failed: HTTPConnectionPool(host='127.0.0.1', port=8001): Max retries exceeded with url: /lab/stations/get?identifier=yumi_station (Caused by NewConnectionError('<urllib3.connection.HTTPConnection object at 0x00000180F8B2AAE0>: Failed to establish a new connection: [WinError 10061] No connection could be made because the target machine actively refused it'))"
     ]
    }
   ],
   "source": [
    "# get station\n",
    "yumi_station = lab.get_station(\"yumi_station\")"
   ]
  },
  {
   "cell_type": "markdown",
   "id": "eb1d247a",
   "metadata": {},
   "source": [
    "## Defining labware\n",
    "To run our experiments, we need to define the used labware, such as the used vials and racks. In the code box below, define a rack that can hold up to 4 vials using the class `Holder`. Moreover, using the `Vessel` class, create 4 empty vials that have a maximum capacity of 15 ml"
   ]
  },
  {
   "cell_type": "code",
   "execution_count": null,
   "id": "63d649ea",
   "metadata": {},
   "outputs": [],
   "source": [
    "# construct the rack holder\n",
    "rack = Holder(type=\"rack\", max_capacity=4)\n",
    "\n",
    "# construct and add vials to the rack\n",
    "for i in range(8):\n",
    "    vial = Vessel(type=\"vial\", max_capacity=15, capacity_unit=\"ml\")\n",
    "    rack.add_container(vial)"
   ]
  },
  {
   "cell_type": "markdown",
   "id": "688b1748",
   "metadata": {},
   "source": [
    "## Adding labware to the station\n",
    "The created labware needs to be added to our station's inventory so it can be used in the experiment. Below use `add_container` method of the `inventory` attribute of our station to do so"
   ]
  },
  {
   "cell_type": "code",
   "execution_count": null,
   "id": "ceecefb2",
   "metadata": {},
   "outputs": [],
   "source": [
    "# add the rack to the station inventory\n",
    "yumi_station.inventory.add_container(rack)"
   ]
  },
  {
   "cell_type": "markdown",
   "id": "0c424d2d",
   "metadata": {},
   "source": [
    "## Workflow steps\n",
    "---"
   ]
  },
  {
   "cell_type": "markdown",
   "id": "c0221012",
   "metadata": {},
   "source": [
    "### Workflow step (1) - Pick a vial and decap it\n",
    "The first step in our workflow involves using the YuMi robot to decap one of the vials before adding liquid to it. Use `get_robot` method of our station to retrieve our robot named *yumi*\n",
    "\n",
    "*hint: use python type hints when getting a device to have access to its methods using autocomplete*"
   ]
  },
  {
   "cell_type": "code",
   "execution_count": null,
   "id": "a1ccf5bd",
   "metadata": {},
   "outputs": [],
   "source": [
    "# get the robot from the station\n",
    "yumi: AbbYuMi = yumi_station.get_robot(\"yumi\")"
   ]
  },
  {
   "cell_type": "markdown",
   "id": "0b77f572",
   "metadata": {},
   "source": [
    "Using the retrieved robot, call its `execute` method to execute the task name *pick_vial_from_rack* with the argument: {\"index\":1}, so the robot pick a vial from the input rack and place it in the operation zone"
   ]
  },
  {
   "cell_type": "code",
   "execution_count": null,
   "id": "c253ed1a",
   "metadata": {},
   "outputs": [],
   "source": [
    "# execute robot task\n",
    "yumi.execute(\"pick_vial_from_rack\", {\"index\":1})"
   ]
  },
  {
   "cell_type": "markdown",
   "id": "9e543397",
   "metadata": {},
   "source": [
    "Similarly, execute the task *uncap_vial* with no arguments"
   ]
  },
  {
   "cell_type": "code",
   "execution_count": null,
   "id": "0942b33a",
   "metadata": {},
   "outputs": [],
   "source": [
    "# decap the vial\n",
    "yumi.execute(\"uncap_vial\", {})"
   ]
  },
  {
   "cell_type": "markdown",
   "id": "72b69322",
   "metadata": {},
   "source": [
    "### Workflow step (2) - Adding liquids to the vial\n",
    "We need to retrieve the Tecan XCalibur liquid handler from our station so we can use it functionalities. Similar to how we needed to retrieve the YuMi robot from the station, use `get_device` method to retrieve our liquid handler named *xcalibur_pump*\n",
    "\n",
    "*hint: don't forget using type hinting*"
   ]
  },
  {
   "cell_type": "code",
   "execution_count": null,
   "id": "85147efe",
   "metadata": {},
   "outputs": [],
   "source": [
    "# get the liquid handler from the station\n",
    "xcalibur: TecanXCalibur = yumi_station.get_device(\"xcalibur_pump\")"
   ]
  },
  {
   "cell_type": "markdown",
   "id": "88095bc5",
   "metadata": {},
   "source": [
    "Next, load the vial into the liquid handler by executing the robot task *place_vial_in_pump* with no arguments"
   ]
  },
  {
   "cell_type": "code",
   "execution_count": null,
   "id": "8d2a5039",
   "metadata": {},
   "outputs": [],
   "source": [
    "# load the vial into the liquid handler\n",
    "yumi.execute(\"load_tecan_pump\", {})"
   ]
  },
  {
   "cell_type": "markdown",
   "id": "310b23ac",
   "metadata": {},
   "source": [
    "Use the liquid handler `dispense` method to add 10ml of water to the loaded vial"
   ]
  },
  {
   "cell_type": "code",
   "execution_count": null,
   "id": "95f5a39d",
   "metadata": {},
   "outputs": [],
   "source": [
    "# dispense 10ml of water into the vial\n",
    "xcalibur.dispense(reagent=\"water\", volume=10, volume_unit=\"ml\")"
   ]
  },
  {
   "cell_type": "markdown",
   "id": "bcbd6adc",
   "metadata": {},
   "source": [
    "Currently in our framework, all the operations are defined explicitly. In other words, adding liquid to the vial needs to be explicitly defined by the programmer. In the code box below, define the added reagent using the `Reagent` class and use `add_reagent` method of our vial to define the addition"
   ]
  },
  {
   "cell_type": "code",
   "execution_count": null,
   "id": "d6ebd28e",
   "metadata": {},
   "outputs": [],
   "source": [
    "# define the added reagent\n",
    "water = Reagent(\"water\", 10, \"ml\")\n",
    "\n",
    "# add the added reagent to the vial\n",
    "vial.add_reagent(water)"
   ]
  },
  {
   "cell_type": "markdown",
   "id": "b5d0cbf8",
   "metadata": {},
   "source": [
    "Similarly, use the liquid handler `dispense` method to add 3ml of dye to the loaded vial and explicitly define the reagent addition"
   ]
  },
  {
   "cell_type": "code",
   "execution_count": null,
   "id": "70d72aa3",
   "metadata": {},
   "outputs": [],
   "source": [
    "# dispense dye into the vial\n",
    "xcalibur.dispense(reagent=\"dye\", volume=3, volume_unit=\"ml\")\n",
    "\n",
    "# define the added reagent\n",
    "dye = Reagent(\"dye\", 3, \"ml\")\n",
    "\n",
    "# add the added reagent to the vial\n",
    "vial.add_reagent(dye)"
   ]
  },
  {
   "cell_type": "markdown",
   "id": "fd96db6f",
   "metadata": {},
   "source": [
    "Finally, use the YuMi robot to unload the vial from the liquid handler and place it back in the operation zone using the task *unload_tecan_pump* before capping the vial with the task *cap_vial*"
   ]
  },
  {
   "cell_type": "code",
   "execution_count": null,
   "id": "34d28526",
   "metadata": {},
   "outputs": [],
   "source": [
    "# unload the vial from the liquid handler\n",
    "yumi.execute(\"unload_tecan_pump\", {})\n",
    "\n",
    "# cap the vial\n",
    "yumi.execute(\"cap_vial\", {})"
   ]
  },
  {
   "cell_type": "markdown",
   "id": "d19a8e88",
   "metadata": {},
   "source": [
    "### Workflow step (3) - Mixing the liquids\n",
    "In order to mix the added liquids, we need to use our IKA RCT digital plate. Similar to the previous steps, first retrieve the device from the station using its given name *ika_plate*"
   ]
  },
  {
   "cell_type": "code",
   "execution_count": null,
   "id": "0c2316d7",
   "metadata": {},
   "outputs": [],
   "source": [
    "# get the ika plate from the station\n",
    "ika_plate: IkaPlate = yumi_station.get_device(\"ika_plate\")"
   ]
  },
  {
   "cell_type": "markdown",
   "id": "f16bdfdc",
   "metadata": {},
   "source": [
    "Use the YuMi robot to load the vial into the IKA plate using the task *load_ika_plate*, stir the liquids for 10 seconds using the methods `start_stirring` and `stop_stirring` in the IKA plate. To add the delay, you can use `sleep` method from python `time` library. Finally, make the robot unload the IKA plate using the task *unload_ika_plate*"
   ]
  },
  {
   "cell_type": "code",
   "execution_count": null,
   "id": "03720a79",
   "metadata": {},
   "outputs": [],
   "source": [
    "# load the vial into the ika plate\n",
    "yumi.execute(\"load_ika_plate\", {})\n",
    "\n",
    "# start stirring\n",
    "ika_plate.start_stirring()\n",
    "\n",
    "# sleep for 10 seconds\n",
    "time.sleep(10)\n",
    "\n",
    "# stop stirring\n",
    "ika_plate.stop_stirring()\n",
    "\n",
    "# unload the vial from the ika plate\n",
    "yumi.execute(\"unload_ika_plate\", {})"
   ]
  },
  {
   "cell_type": "markdown",
   "id": "f5e8fba6",
   "metadata": {},
   "source": [
    "### Workflow step (4) - Image the resulting solution\n",
    "The final step in our workflow is to take a picture of the vial to image the resulting solution before running further analysis. Like in the previous steps, first retrieve the camera device from the station using its given name *camera*. Afterwards, use the YuMi robot to present the vial to the camera using the task *goto_camera_pose*"
   ]
  },
  {
   "cell_type": "code",
   "execution_count": null,
   "id": "014fe763",
   "metadata": {},
   "outputs": [],
   "source": [
    "# get the camera from the station\n",
    "camera: webcam = yumi_station.get_device(\"camera\")\n",
    "\n",
    "# present the vial to the camera\n",
    "yumi.execute(\"goto_camera_pose\", {})"
   ]
  },
  {
   "cell_type": "markdown",
   "id": "374a2f30",
   "metadata": {},
   "source": [
    "Next, use the camera `take_image` method to take a picture of the presented vial. Note that, all device and robot methods return `Operation` object upon calling. Store this object by assigning a variable named `op` to the method call.\n",
    "\n",
    "*hint: use type hinting on the returned object to have access to its attributes and methods"
   ]
  },
  {
   "cell_type": "code",
   "execution_count": null,
   "id": "5743228d",
   "metadata": {},
   "outputs": [],
   "source": [
    "# take an image of the vial\n",
    "op: Operation = camera.take_image()"
   ]
  },
  {
   "cell_type": "markdown",
   "id": "3e3101df",
   "metadata": {},
   "source": [
    "Finally, use the YuMi robot to return the vial to the operation zone and then to place it back in the rack using the tasks *return_from_camera_pose* and *place_vial_in_rack* respectively. The latter task takes arguments {\"index\":1}"
   ]
  },
  {
   "cell_type": "code",
   "execution_count": null,
   "id": "022103eb",
   "metadata": {},
   "outputs": [],
   "source": [
    "# return the vial from the camera\n",
    "yumi.execute(\"return_from_camera_pose\", {})\n",
    "\n",
    "# place the vial back in the rack\n",
    "yumi.execute(\"place_vial_in_rack\", {\"index\":1})"
   ]
  },
  {
   "cell_type": "markdown",
   "id": "93cee1a8",
   "metadata": {},
   "source": [
    "---\n",
    "## Retrieve experiment data\n",
    "After running our workflow, we want to access the image that was taken during the experiment to further analyze our data. To access the results of the operation, use the method `get_result_object` to retrieve `OperationResult` that provide access to the results data"
   ]
  },
  {
   "cell_type": "code",
   "execution_count": null,
   "id": "d41ae309",
   "metadata": {},
   "outputs": [],
   "source": [
    "# get the operation result object\n",
    "img_result: OperationResult = op.get_result_object()"
   ]
  },
  {
   "cell_type": "markdown",
   "id": "e9cbff7b",
   "metadata": {},
   "source": [
    "Use the method `save_data` of the result object to store data to the disk under the path /tmp/images, so we can access it later"
   ]
  },
  {
   "cell_type": "code",
   "execution_count": null,
   "id": "dd2b0c64",
   "metadata": {},
   "outputs": [],
   "source": [
    "# store data to disk\n",
    "img_result.save_data(\"/tmp/images/img_1.png\")"
   ]
  },
  {
   "cell_type": "markdown",
   "id": "ee210612",
   "metadata": {},
   "source": [
    "## Using 3rd party libraries\n",
    "The result data can be directly accessed in runtime to run further analysis on it using 3rd party libraries or to convert it to another format if needed. Retrieve the result data directly using the method `get_data` from the OperationResult object.Afterwards, import `cv2` library and use it to display the taken image and then convert it to grey-scale colour space using the appropriate cv2 methods"
   ]
  },
  {
   "cell_type": "code",
   "execution_count": null,
   "id": "07f3b6e6",
   "metadata": {},
   "outputs": [],
   "source": [
    "# import the 3rd party library\n",
    "import cv2\n",
    "\n",
    "# get the result data\n",
    "img = img_result.get_data()\n",
    "\n",
    "# display the image and convert to grey-scale\n",
    "cv2.imshow(\"Image\", img)\n",
    "gray_img = cv2.cvtColor(img, cv2.COLOR_BGR2GRAY)\n",
    "cv2.imshow(\"Gray Image\", gray_img)\n",
    "cv2.waitKey(0)\n",
    "cv2.destroyAllWindows()\n"
   ]
  }
 ],
 "metadata": {
  "kernelspec": {
   "display_name": "sim_user",
   "language": "python",
   "name": "python3"
  },
  "language_info": {
   "codemirror_mode": {
    "name": "ipython",
    "version": 3
   },
   "file_extension": ".py",
   "mimetype": "text/x-python",
   "name": "python",
   "nbconvert_exporter": "python",
   "pygments_lexer": "ipython3",
   "version": "3.12.11"
  }
 },
 "nbformat": 4,
 "nbformat_minor": 5
}
