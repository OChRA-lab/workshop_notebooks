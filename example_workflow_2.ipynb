{
 "cells": [
  {
   "cell_type": "markdown",
   "id": "8d08e6e7",
   "metadata": {},
   "source": [
    "# Soluability workflow"
   ]
  },
  {
   "cell_type": "markdown",
   "id": "8fbf25e1",
   "metadata": {},
   "source": [
    "You are given the imports below for all the necessary modules and classes required to run our example workflow"
   ]
  },
  {
   "cell_type": "code",
   "execution_count": null,
   "id": "65d799d3",
   "metadata": {},
   "outputs": [],
   "source": [
    "\n",
    "import time\n",
    "\n",
    "from ochra_discovery.storage.vessel import Vessel\n",
    "from ochra_discovery.storage.reagent import Reagent\n",
    "from ochra_discovery.equipment.operation import Operation\n",
    "from ochra_discovery.equipment.operation_result import OperationResult\n",
    "from ochra_discovery.spaces.lab import Lab\n",
    "from ochra_discovery.storage.holder import Holder\n",
    "\n",
    "from ika_rct_digital.device import IkaPlate\n",
    "from tecan_xcalibur.device import TecanXCalibur\n",
    "from webcam.device import Webcam\n",
    "from abb_yumi.device import AbbYuMi\n",
    "from xpr_quantos.device import XprQuantos\n",
    "from kuka_kmriiwa.device import KukaKMRiiwa"
   ]
  },
  {
   "cell_type": "markdown",
   "id": "4d722594",
   "metadata": {},
   "source": [
    "## Connecting to the lab server\n",
    "In the code box below, using `Lab` class, connect to the server at address *192.168.137.1:8001* with an experiment id of your choice."
   ]
  },
  {
   "cell_type": "code",
   "execution_count": null,
   "id": "2542cd9c",
   "metadata": {},
   "outputs": [],
   "source": [
    "# connect to lab server\n",
    "lab = Lab(\"192.168.137.1:8001\",\"Ochra_Lab\")"
   ]
  },
  {
   "cell_type": "markdown",
   "id": "ee57ee85",
   "metadata": {},
   "source": [
    "## Retrieving a station\n",
    "Use `get_station` method from the `Lab` class to retrieve *yumi_station* and *kuka_station* where the latter represents KUKA KMR-iiwa mobile robot"
   ]
  },
  {
   "cell_type": "code",
   "execution_count": null,
   "id": "84435976",
   "metadata": {},
   "outputs": [],
   "source": [
    "# get station\n",
    "yumi_station = lab.get_station(\"yumi_station\")\n",
    "kuka_station = lab.get_station(\"kuka_station\")"
   ]
  },
  {
   "cell_type": "markdown",
   "id": "eb1d247a",
   "metadata": {},
   "source": [
    "## Defining labware\n",
    "In the code box below, define a rack that can hold up to 4 vials using the class `Holder`. Moreover, using the `Vessel` class, create 8 empty vials that have a maximum capacity of 15 ml"
   ]
  },
  {
   "cell_type": "code",
   "execution_count": null,
   "id": "63d649ea",
   "metadata": {},
   "outputs": [],
   "source": [
    "# construct the rack holder\n",
    "rack = Holder(type=\"rack\", max_capacity=8)\n",
    "\n",
    "# construct and add vials to the rack\n",
    "for i in range(8):\n",
    "    vial = Vessel(type=\"vial\", max_capacity=15, capacity_unit=\"ml\")\n",
    "    rack.add_container(vial)"
   ]
  },
  {
   "cell_type": "markdown",
   "id": "688b1748",
   "metadata": {},
   "source": [
    "## Adding labware to the station\n",
    "Given the rack is initially loaded into the mobile robot deck, use `add_container` method of the `inventory` attribute of our mobile robot station to add the rack to its inventory"
   ]
  },
  {
   "cell_type": "code",
   "execution_count": null,
   "id": "ceecefb2",
   "metadata": {},
   "outputs": [],
   "source": [
    "# add the rack to the station inventory\n",
    "kuka_station.inventory.add_container(rack)"
   ]
  },
  {
   "cell_type": "markdown",
   "id": "0c424d2d",
   "metadata": {},
   "source": [
    "## Workflow steps\n",
    "---"
   ]
  },
  {
   "cell_type": "markdown",
   "id": "69ae8677",
   "metadata": {},
   "source": [
    "### Workflow step (1) - Load rack of vials into YuMi station\n",
    "The first step in our workflow involves using the KUKA KMRiiwa mobile robot to load a rack of vials into the YuMi station so the process can begin. Use `get_robot` method of our station to retrieve our robot named *KUKA3*.\n",
    "\n",
    "*hint: use python type hints when getting a device to have access to its methods using autocomplete*"
   ]
  },
  {
   "cell_type": "code",
   "execution_count": null,
   "id": "51197f47",
   "metadata": {},
   "outputs": [],
   "source": [
    "# get the mobile robot from its station station\n",
    "kuka: KukaKMRiiwa = kuka_station.get_robot(\"KUKA3\")"
   ]
  },
  {
   "cell_type": "markdown",
   "id": "66a38959",
   "metadata": {},
   "source": [
    "The mobile robot need to navigate to the YuMi station first. In the code box below, call its `go_to` method with the following arguments: {\"graph_id\": 1, \"node_id\": 30, \"fine_localization\": True} to do so"
   ]
  },
  {
   "cell_type": "code",
   "execution_count": null,
   "id": "6c1f605b",
   "metadata": {},
   "outputs": [],
   "source": [
    "# move the mobile robot to the yumi station\n",
    "kuka.go_to({\"graph_id\": 1, \"node_id\": 30, \"fine_localization\": True})"
   ]
  },
  {
   "cell_type": "markdown",
   "id": "c6cbd6e8",
   "metadata": {},
   "source": [
    "Next, execute the task *PickPlaceRackDeckToStation* to load the rack of vials into the station"
   ]
  },
  {
   "cell_type": "code",
   "execution_count": null,
   "id": "7dc3a281",
   "metadata": {},
   "outputs": [],
   "source": [
    "# load the rack of vials into the station\n",
    "kuka.execute(\"PickPlaceRackDeckToStation\", {})\n"
   ]
  },
  {
   "cell_type": "markdown",
   "id": "245a0e78",
   "metadata": {},
   "source": [
    "Before moving to the next step, we need to explicitly remove the rack of vials from the mobile robot inventory and add it to the YuMi station. To remove a rack from a station use `remove_container` method"
   ]
  },
  {
   "cell_type": "code",
   "execution_count": null,
   "id": "a719e45e",
   "metadata": {},
   "outputs": [],
   "source": [
    "# remove the rack from the mobile robot inventory\n",
    "kuka_station.inventory.remove_container(rack)\n",
    "\n",
    "# add the rack to the yumi station inventory\n",
    "yumi_station.inventory.add_container(rack)"
   ]
  },
  {
   "cell_type": "markdown",
   "id": "c0221012",
   "metadata": {},
   "source": [
    "### Workflow step (2) - Pick a vial and decap it\n",
    "In this step, the YuMi robot would pick a vial from the loaded rack and decap it before moving to the next step. Use *yumi* robot from the YuMi station to pick a vial from the rack and decap it. To pick a vial use the task *pick_vial_from_rack* with the argument: {\"index\":1}. While to decap the a cap use the task *uncap_vial* with no arguments\n"
   ]
  },
  {
   "cell_type": "code",
   "execution_count": null,
   "id": "a1ccf5bd",
   "metadata": {},
   "outputs": [],
   "source": [
    "# get the robot from the station\n",
    "yumi: AbbYuMi = yumi_station.get_robot(\"yumi\")\n",
    "\n",
    "# pick a vial from the rack\n",
    "yumi.execute(\"pick_vial_from_rack\", {\"index\":1})\n",
    "\n",
    "# decap the vial\n",
    "yumi.execute(\"uncap_vial\", {})"
   ]
  },
  {
   "cell_type": "markdown",
   "id": "45f3071e",
   "metadata": {},
   "source": [
    "### Workflow step (3) - Adding solid to the vial\n",
    "We need to dispense solid into the vial using our Mettler Toledo XPR Quantos solid handler. In the code box below, do the following:\n",
    "- Retrieve the solid handler named *xpr* from the station\n",
    "- Open the XPR doors using `open_door` method\n",
    "- Use YuMi robot to execute *load_xpr* task\n",
    "- Close the XPR doors using `close_door` method\n",
    "- Dispnese 20 mg of *CAFFEINE* using task named *OCHRA* with tolerance of 5\n",
    "- Open the XPR doors\n",
    "- Return the vial to the operation zone using the task *unload_xpr*\n",
    "- Close the XPR doors"
   ]
  },
  {
   "cell_type": "code",
   "execution_count": null,
   "id": "0abc9227",
   "metadata": {},
   "outputs": [],
   "source": [
    "# get the xpr quantos solid handler from the station\n",
    "xpr: XprQuantos = yumi_station.get_device(\"xpr\")\n",
    "\n",
    "# open the xpr doors\n",
    "xpr.open_door()\n",
    "\n",
    "# load the xpr using yumi robot\n",
    "yumi.execute(\"load_xpr\", {})\n",
    "\n",
    "# close the xpr doors\n",
    "xpr.close_door()\n",
    "\n",
    "# dispense 20 mg of salt with tolerance of 5\n",
    "xpr.dispense(task_name=\"OCHRA\", substance_name=\"CAFFEINE\", amount=20, tolerance=5)\n",
    "\n",
    "# open the xpr doors\n",
    "xpr.open_door()\n",
    "\n",
    "# return the vial to the operation zone\n",
    "yumi.execute(\"unload_xpr\", {})\n",
    "\n",
    "# close the xpr doors\n",
    "xpr.close_door()"
   ]
  },
  {
   "cell_type": "markdown",
   "id": "519db166",
   "metadata": {},
   "source": [
    "Finally, we need to explicitly define reagent addition to the vial using `Reagent` class. In the code box, add a caffeine reagent to the first vial in the rack"
   ]
  },
  {
   "cell_type": "code",
   "execution_count": null,
   "id": "8de90671",
   "metadata": {},
   "outputs": [],
   "source": [
    "# retreive the vial from the rack\n",
    "vial: Vessel = rack.containers[0]\n",
    "\n",
    "# define the added reagent\n",
    "salt = Reagent(\"CAFFEINE\", 20, \"mg\")\n",
    "\n",
    "# add the reagent to the vial\n",
    "vial.add_reagent(salt)"
   ]
  },
  {
   "cell_type": "markdown",
   "id": "72b69322",
   "metadata": {},
   "source": [
    "### Workflow step (4) - Adding liquid to the vial\n",
    "In this step, use *xcalibur_pump* liquid handler to add 10 ml of water to the vial. First, you need to load the vial into the liquid handler using the robot task *load_tecan_pump*. After finishing, use the robot task *unload_tecan_pump* to return the vial back into the operation zone and then cap it using the *cap_vial* task. Don't forget to define the reagent addition to the vial.\n"
   ]
  },
  {
   "cell_type": "code",
   "execution_count": null,
   "id": "85147efe",
   "metadata": {},
   "outputs": [],
   "source": [
    "# get the liquid handler from the station\n",
    "xcalibur: TecanXCalibur = yumi_station.get_device(\"tecan\")\n",
    "\n",
    "# load the vial into the liquid handler\n",
    "yumi.execute(\"load_tecan_pump\", {})\n",
    "\n",
    "# dispense 10ml of water into the vial\n",
    "xcalibur.dispense(reagent=\"water\", volume=10, unit=\"ml\", source=2, dest=1, dir=\"I\")\n",
    "\n",
    "# retreive the vial from the rack\n",
    "vial: Vessel = rack.containers[0]\n",
    "\n",
    "# define the added reagent\n",
    "water = Reagent(\"water\", 10, \"ml\")\n",
    "\n",
    "# add the added reagent to the vial\n",
    "vial.add_reagent(water)\n",
    "\n",
    "# unload the vial from the liquid handler\n",
    "yumi.execute(\"unload_tecan_pump\", {})\n",
    "\n",
    "# cap the vial\n",
    "yumi.execute(\"cap_vial\", {})"
   ]
  },
  {
   "cell_type": "markdown",
   "id": "d19a8e88",
   "metadata": {},
   "source": [
    "### Workflow step (5) - Mixing the reagents\n",
    "In order to mix the added reagents, we need to use the IKA RCT digital plate named *ika_plate* in our station. Similar to the previous steps, use the YuMi robot to load the vial into the IKA plate using the task *load_ika_plate*, stir and heat the reagents for 30 seconds, and then make the robot unload the IKA plate using the task *unload_ika_plate*"
   ]
  },
  {
   "cell_type": "code",
   "execution_count": null,
   "id": "0c2316d7",
   "metadata": {},
   "outputs": [],
   "source": [
    "# get the ika plate from the station\n",
    "ika_plate: IkaPlate = yumi_station.get_device(\"ika_plate\")\n",
    "\n",
    "# load the vial into the ika plate\n",
    "yumi.execute(\"load_ika_plate\", {})\n",
    "\n",
    "# start stirring\n",
    "ika_plate.start_stir()\n",
    "\n",
    "# start heating\n",
    "ika_plate.start_heat()\n",
    "\n",
    "# sleep for 10 seconds\n",
    "time.sleep(10)\n",
    "\n",
    "# stop stirring and heating\n",
    "ika_plate.stop_stir()\n",
    "ika_plate.stop_heat()\n",
    "\n",
    "# unload the vial from the ika plate\n",
    "yumi.execute(\"unload_ika_plate\", {})"
   ]
  },
  {
   "cell_type": "markdown",
   "id": "f5e8fba6",
   "metadata": {},
   "source": [
    "### Workflow step (6) - Image the resulting solution\n",
    "The final step in our workflow is to take a picture of the vial to image the resulting solution before running further analysis. Like in the previous steps, first retrieve the camera device from the station using its given name *camera*. Afterwards, use the YuMi robot to present the vial to the camera using the task *goto_camera_pose*, before taking a picture using the camera apporpriate method. Finally, use the YuMi robot to return the vial to the operation zone and then to place it back in the rack using the tasks *return_from_camera_pose* and *place_vial_in_rack* respectively. The latter task takes arguments {\"index\":1}\n",
    "\n",
    "*hint: store the `Operation` object returned upon calling the camera *take_image* method"
   ]
  },
  {
   "cell_type": "code",
   "execution_count": null,
   "id": "014fe763",
   "metadata": {},
   "outputs": [],
   "source": [
    "# get the camera from the station\n",
    "camera: Webcam = yumi_station.get_device(\"camera\")\n",
    "\n",
    "# present the vial to the camera\n",
    "yumi.execute(\"goto_camera_pose\", {})\n",
    "\n",
    "# take an image of the vial\n",
    "op: Operation = camera.take_image()\n",
    "\n",
    "# return the vial from the camera\n",
    "yumi.execute(\"return_from_camera_pose\", {})\n",
    "\n",
    "# place the vial back in the rack\n",
    "yumi.execute(\"place_vial_in_rack\", {\"index\":1})"
   ]
  },
  {
   "cell_type": "markdown",
   "id": "93cee1a8",
   "metadata": {},
   "source": [
    "---\n",
    "## Retrieve experiment data\n",
    "After running our workflow, use the method `get_result_object` from the stored *Operation* object to retrieve `OperationResult` so we can access the taken image of the solution. Use the method `save_data` of the result object to store the image to the path /tmp/images"
   ]
  },
  {
   "cell_type": "code",
   "execution_count": null,
   "id": "d41ae309",
   "metadata": {},
   "outputs": [],
   "source": [
    "# get the operation result object\n",
    "img_result: OperationResult = op.get_result_object()\n",
    "\n",
    "# store image to disk\n",
    "img_result.save_data(\"img_solution\")"
   ]
  }
 ],
 "metadata": {
  "kernelspec": {
   "display_name": "sim_user",
   "language": "python",
   "name": "python3"
  },
  "language_info": {
   "codemirror_mode": {
    "name": "ipython",
    "version": 3
   },
   "file_extension": ".py",
   "mimetype": "text/x-python",
   "name": "python",
   "nbconvert_exporter": "python",
   "pygments_lexer": "ipython3",
   "version": "3.12.11"
  }
 },
 "nbformat": 4,
 "nbformat_minor": 5
}
