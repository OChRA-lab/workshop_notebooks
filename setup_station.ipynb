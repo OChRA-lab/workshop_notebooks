{
 "cells": [
  {
   "cell_type": "markdown",
   "id": "258251f9",
   "metadata": {},
   "source": [
    "# Setting up a station\n",
    "---"
   ]
  },
  {
   "cell_type": "markdown",
   "id": "775eeffc",
   "metadata": {},
   "source": [
    "You are given the imports below for all the necessary modules and classes required to set up a station server and its devices for the automation workflow. These include handlers for the YuMi robot, web camera, Tecan XCalibur pump, Ika Plate, and supporting utilities."
   ]
  },
  {
   "cell_type": "code",
   "execution_count": 2,
   "id": "56600fd3",
   "metadata": {},
   "outputs": [],
   "source": [
    "from abb_yumi.handler import AbbYuMi\n",
    "from webcam.handler import Webcam\n",
    "from tecan_xcalibur.handler import TecanXCalibur\n",
    "from ika_rct_digital.handler import IkaPlate\n",
    "from ochra_common.spaces.location import Location\n",
    "from ochra_common.utils.enum import StationType\n",
    "from ochra_manager.station.station_server import StationServer"
   ]
  },
  {
   "cell_type": "markdown",
   "id": "6ed21e9d",
   "metadata": {},
   "source": [
    "## Construct station server\n",
    "In OChRA framework, a station represents a physical location in the lab that have a number of instruments and robots attached to it that users can operate to run their workflows.\n",
    "\n",
    "In the code box below, construct a `StationServer` using the following information:\n",
    "- Name the station *yumi_station* with your name as a prefix e.g. *hatem_yumi_station*\n",
    "- The station is placed at yumi_corner, which is located in the ACL lab at main room\n",
    "- The station server is to run at the address *127.0.0.1:8002*\n",
    "- Station logs should be stored at the path /tmp/yumi_station"
   ]
  },
  {
   "cell_type": "code",
   "execution_count": 3,
   "id": "329a9e98",
   "metadata": {},
   "outputs": [],
   "source": [
    "# construct the station server\n"
   ]
  },
  {
   "cell_type": "markdown",
   "id": "2c9e9b0a",
   "metadata": {},
   "source": [
    "## Connect to lab server\n",
    "In order to add a station to the lab, it needs to connect to the lab server. Using `setup` method, connect to the lab server whose address: *127.0.0.1:8001* "
   ]
  },
  {
   "cell_type": "code",
   "execution_count": 4,
   "id": "301c705a",
   "metadata": {},
   "outputs": [],
   "source": [
    "# setup the station server\n"
   ]
  },
  {
   "cell_type": "markdown",
   "id": "191d01b7",
   "metadata": {},
   "source": [
    "## Setup devices\n",
    "After constructing the station server and connecting to the lab server, we need to add our instruments and robots to the station. In the code box below, construct and add the following devices to the station:\n",
    "- **IKA RCT Digital plate** for heating and stirring samples\n",
    "- **Tecan XCalibur syringe pump** for liquid handling\n",
    "- **An ordinary web camera** to take pictures/videos of samples\n",
    "- **ABB YuMi dual-arms robot** to manipulate samples "
   ]
  },
  {
   "cell_type": "code",
   "execution_count": null,
   "id": "8b7e6ff6",
   "metadata": {},
   "outputs": [],
   "source": [
    "# Construct devices\n",
    "\n",
    "# construct IKA plate, setting the connection mode to serial via the port /dev/ttyACM0\n",
    "\n",
    "# construct Tecan XCalibur pump with connection mode as serial, using port /dev/ttyUSB0, using a syringe size of 2.5mL, valve_type of 6-port-dist-valve and reagents map {\"water\": 1}\n",
    "\n",
    "# construct web camera on usb port /dev/ttyUSB1\n",
    "\n",
    "# construct YuMi robot\n",
    "# here are the tasks that the robot can perform in this station\n",
    "tasks = [\n",
    "    \"pick_vial_from_input_loc\",\n",
    "    \"decap\",\n",
    "    \"place_vial_in_pump\",\n",
    "    \"pick_vial_from_pump\",\n",
    "    \"place_vial_in_ika\",\n",
    "    \"pick_vial_from_ika\",\n",
    "    \"pick_vial_from_camera\",\n",
    "    \"place_vial_in_camera\",\n",
    "    \"cap\",\n",
    "    \"place_vial_in_output_loc\",\n",
    "]\n"
   ]
  },
  {
   "cell_type": "markdown",
   "id": "dc20c950",
   "metadata": {},
   "source": [
    "## Run the station server\n",
    "After adding all the available devices, we need to run the station server in order for it to be ready to handle requests. In the code box below use the `run` command to start the station server"
   ]
  },
  {
   "cell_type": "code",
   "execution_count": null,
   "id": "a5be7384",
   "metadata": {},
   "outputs": [],
   "source": [
    "# start the station server\n"
   ]
  }
 ],
 "metadata": {
  "kernelspec": {
   "display_name": "sim_user",
   "language": "python",
   "name": "python3"
  },
  "language_info": {
   "codemirror_mode": {
    "name": "ipython",
    "version": 3
   },
   "file_extension": ".py",
   "mimetype": "text/x-python",
   "name": "python",
   "nbconvert_exporter": "python",
   "pygments_lexer": "ipython3",
   "version": "3.12.11"
  }
 },
 "nbformat": 4,
 "nbformat_minor": 5
}
